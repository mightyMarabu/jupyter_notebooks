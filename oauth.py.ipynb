{
 "cells": [
  {
   "cell_type": "code",
   "execution_count": 1,
   "id": "4c4b44a1-1630-44cc-9014-460a3717eebc",
   "metadata": {},
   "outputs": [],
   "source": [
    "from supersecret import kenya_client_id, secret\n",
    "\n",
    "from oauthlib.oauth2 import BackendApplicationClient\n",
    "from requests_oauthlib import OAuth2Session\n",
    "\n",
    "# Your client credentials\n",
    "#client_id = '<client_id>'\n",
    "client_id = kenya_client_id\n",
    "#client_secret = '<secret>'\n",
    "client_secret = secret\n",
    "\n",
    "# Create a session\n",
    "client = BackendApplicationClient(client_id=client_id)\n",
    "oauth = OAuth2Session(client=client)\n",
    "\n",
    "# Get token for the session\n",
    "token = oauth.fetch_token(token_url='https://identity.dataspace.copernicus.eu/auth/realms/CDSE/protocol/openid-connect/token',\n",
    "                          client_secret=client_secret)\n",
    "\n",
    "# All requests using this session will have an access token automatically added\n",
    "#resp = oauth.get(\"...\")\n",
    "#print(resp.content)"
   ]
  },
  {
   "cell_type": "code",
   "execution_count": 2,
   "id": "c5728e8c-6b9b-474b-aec2-f9def05a13a1",
   "metadata": {},
   "outputs": [
    {
     "data": {
      "text/plain": [
       "{'access_token': 'eyJhbGciOiJSUzI1NiIsInR5cCIgOiAiSldUIiwia2lkIiA6ICJYVUh3VWZKaHVDVWo0X3k4ZF8xM0hxWXBYMFdwdDd2anhob2FPLUxzREZFIn0.eyJleHAiOjE2OTk4ODYxNTAsImlhdCI6MTY5OTg4NTU1MCwianRpIjoiOWUyNDVlNTQtYTcxNy00YmQ2LWFkNjUtNzI2MWNlNmUxNzdlIiwiaXNzIjoiaHR0cHM6Ly9pZGVudGl0eS5kYXRhc3BhY2UuY29wZXJuaWN1cy5ldS9hdXRoL3JlYWxtcy9DRFNFIiwiYXVkIjoiQ0xPVURGRVJST19QVUJMSUMiLCJzdWIiOiJlNDlmYzVmMS02YjcyLTQxODEtODYzZC0wMzQwYWE5YzZhZjIiLCJ0eXAiOiJCZWFyZXIiLCJhenAiOiJzaC03ZmU4MTgwYi00ZTQxLTQwZmQtYWQ4ZS1mMjRjYTAzZGE3MWEiLCJzY29wZSI6IkFVRElFTkNFX1BVQkxJQyBlbWFpbCBwcm9maWxlIHVzZXItY29udGV4dCIsImNsaWVudEhvc3QiOiIxNDEuNTEuMjQ5Ljg2IiwiZW1haWxfdmVyaWZpZWQiOmZhbHNlLCJjbGllbnRJZCI6InNoLTdmZTgxODBiLTRlNDEtNDBmZC1hZDhlLWYyNGNhMDNkYTcxYSIsIm9yZ2FuaXphdGlvbnMiOlsiZGVmYXVsdC03NGY3ZmI3Yy05NzU4LTQ3YzktODI0MS01ZmUxNDQ0NTAxNzQiXSwidXNlcl9jb250ZXh0X2lkIjoiZTM4ZjkyNWYtYmMyZC00NDkxLWFkYjYtMTQ0MzMyMGFiZGMzIiwiY29udGV4dF9yb2xlcyI6e30sImNvbnRleHRfZ3JvdXBzIjpbIi9hY2Nlc3NfZ3JvdXBzL3VzZXJfdHlwb2xvZ3kvY29wZXJuaWN1c19nZW5lcmFsLyIsIi9vcmdhbml6YXRpb25zL2RlZmF1bHQtNzRmN2ZiN2MtOTc1OC00N2M5LTgyNDEtNWZlMTQ0NDUwMTc0LyJdLCJwcmVmZXJyZWRfdXNlcm5hbWUiOiJzZXJ2aWNlLWFjY291bnQtc2gtN2ZlODE4MGItNGU0MS00MGZkLWFkOGUtZjI0Y2EwM2RhNzFhIiwidXNlcl9jb250ZXh0IjoiZGVmYXVsdC03NGY3ZmI3Yy05NzU4LTQ3YzktODI0MS01ZmUxNDQ0NTAxNzQiLCJjbGllbnRBZGRyZXNzIjoiMTQxLjUxLjI0OS44NiJ9.prljp-tJiqwf2Jjod3pJqJNvuxRSv6k1txfpTn2UOuNPnyGxMSzfxYfxNEXyzJy2G9q0dzJuYg2hfpK20fz9tIUkliElvIX2zP_Ng-c04c1av7P2I14XA5m6wA638i0aJlqIHjORha75mu21nl6itVv3hOem9nEZxLzxXI54IV_s00aBh4BleR9RNImTSYWChDuB0rIH-zvPbmi5dvAGEHOyq0C5kZs30QhPOEew_pXvP48vfDDqk8ybDRCJOp0aeTK-c6IKlgvXS6N8stUzCr3mhnJakzXywGH86n-No2jkGfi050W7OAULpZ9BF1xdZbbo-5cM48WXBeSXjwY7BA',\n",
       " 'expires_in': 600,\n",
       " 'refresh_expires_in': 0,\n",
       " 'token_type': 'Bearer',\n",
       " 'not-before-policy': 0,\n",
       " 'scope': ['AUDIENCE_PUBLIC', 'email', 'profile', 'user-context'],\n",
       " 'expires_at': 1699886150.313577}"
      ]
     },
     "execution_count": 2,
     "metadata": {},
     "output_type": "execute_result"
    }
   ],
   "source": [
    "token"
   ]
  },
  {
   "cell_type": "code",
   "execution_count": 3,
   "id": "d4392013-4df0-4978-854a-45055283f70c",
   "metadata": {},
   "outputs": [],
   "source": [
    "def sentinelhub_compliance_hook(response):\n",
    "    response.raise_for_status()\n",
    "    return response\n",
    "\n",
    "oauth.register_compliance_hook(\"access_token_response\", sentinelhub_compliance_hook)"
   ]
  },
  {
   "cell_type": "code",
   "execution_count": 7,
   "id": "62a3a7ce-2402-4356-84f8-da369450a769",
   "metadata": {},
   "outputs": [],
   "source": [
    "# true color\n",
    "evalscript = \"\"\"\n",
    "//VERSION=3\n",
    "function setup() {\n",
    "  return {\n",
    "    input: [\"B02\", \"B03\", \"B04\"],\n",
    "    output: { bands: 3 },\n",
    "  }\n",
    "}\n",
    "\n",
    "function evaluatePixel(sample) {\n",
    "  return [2.5 * sample.B04, 2.5 * sample.B03, 2.5 * sample.B02]\n",
    "}\n",
    "\"\"\"\n",
    "\n",
    "request = {\n",
    "    \"input\": {\n",
    "        \"bounds\": {\n",
    "            \"properties\": {\"crs\": \"http://www.opengis.net/def/crs/OGC/1.3/CRS84\"},\n",
    "            \"bbox\": [\n",
    "               \n",
    "                36.647443106,\n",
    "                0.978438668,\n",
    "                38.527295195,\n",
    "                2.369927492\n",
    "            ],\n",
    "        },\n",
    "        \"data\": [\n",
    "            {\n",
    "                \"type\": \"sentinel-2-l2a\",\n",
    "                \"dataFilter\": {\n",
    "                    \"timeRange\": {\n",
    "                        \"from\": \"2022-11-01T00:00:00Z\",\n",
    "                        \"to\": \"2022-11-13T00:00:00Z\",\n",
    "                    }\n",
    "                },\n",
    "            }\n",
    "        ],\n",
    "    },\n",
    "    \"output\": {\n",
    "        \"width\": 2500,\n",
    "        \"height\": 2500,\n",
    "    },\n",
    "    \"evalscript\": evalscript,\n",
    "}\n",
    "\n",
    "url = \"https://sh.dataspace.copernicus.eu/api/v1/process\"\n",
    "response = oauth.post(url, json=request, headers={\"Accept\": \"image/tiff\"})"
   ]
  },
  {
   "cell_type": "code",
   "execution_count": 11,
   "id": "cac099cc-e92f-4d26-bf4a-1d6008f76e4c",
   "metadata": {
    "scrolled": true
   },
   "outputs": [
    {
     "data": {
      "text/plain": [
       "<Response [200]>"
      ]
     },
     "execution_count": 11,
     "metadata": {},
     "output_type": "execute_result"
    }
   ],
   "source": [
    "response"
   ]
  },
  {
   "cell_type": "raw",
   "id": "53f32a9a-2a44-48a8-94b7-6951e74f957e",
   "metadata": {},
   "source": []
  },
  {
   "cell_type": "code",
   "execution_count": 9,
   "id": "5098b62e-f78d-4b1c-8022-beb7a9aabeb5",
   "metadata": {},
   "outputs": [
    {
     "name": "stdout",
     "output_type": "stream",
     "text": [
      "TIFF file saved successfully.\n"
     ]
    }
   ],
   "source": [
    "# Check if the request was successful\n",
    "if response.status_code == 200:\n",
    "    # Open a TIFF file in binary write mode and save the content of the response\n",
    "    with open('output.tiff', 'wb') as f:\n",
    "        f.write(response.content)\n",
    "    print('TIFF file saved successfully.')\n",
    "else:\n",
    "    print('Failed to retrieve TIFF data. Status code:', response.status_code)"
   ]
  },
  {
   "cell_type": "code",
   "execution_count": 61,
   "id": "59e4ba8e-0cff-4ea6-b272-7686a2e88dd0",
   "metadata": {},
   "outputs": [],
   "source": [
    "# all SL2A RAW DATA\n",
    "\n",
    "#get token for the session:\n",
    "\n",
    "token = oauth.fetch_token(token_url='https://identity.dataspace.copernicus.eu/auth/realms/CDSE/protocol/openid-connect/token',\n",
    "                          client_secret=client_secret)\n",
    "\n",
    "# query API:\n",
    "\n",
    "evalscript = \"\"\"\n",
    "//VERSION=3\n",
    "function setup() {\n",
    "  return {\n",
    "    input: [\n",
    "      {\n",
    "        bands: [\n",
    "          \"B01\",\n",
    "          \"B02\",\n",
    "          \"B03\",\n",
    "          \"B04\",\n",
    "          \"B05\",\n",
    "          \"B06\",\n",
    "          \"B07\",\n",
    "          \"B08\",\n",
    "          \"B8A\",\n",
    "          \"B09\",\n",
    "          \"B11\",\n",
    "          \"B12\",\n",
    "        ],\n",
    "        units: \"DN\",\n",
    "      },\n",
    "    ],\n",
    "    output: {\n",
    "      id: \"default\",\n",
    "      bands: 12,\n",
    "      sampleType: SampleType.UINT16,\n",
    "    },\n",
    "  }\n",
    "}\n",
    "\n",
    "function evaluatePixel(sample) {\n",
    "  return [\n",
    "    sample.B01,\n",
    "    sample.B02,\n",
    "    sample.B03,\n",
    "    sample.B04,\n",
    "    sample.B05,\n",
    "    sample.B06,\n",
    "    sample.B07,\n",
    "    sample.B08,\n",
    "    sample.B8A,\n",
    "    sample.B09,\n",
    "    sample.B11,\n",
    "    sample.B12,\n",
    "  ]\n",
    "}\n",
    "\"\"\"\n",
    "\n",
    "request = {\n",
    "    \"input\": {\n",
    "        \"bounds\": {\n",
    "            \"properties\": {\"crs\": \"http://www.opengis.net/def/crs/OGC/1.3/CRS84\"},\n",
    "            \"geometry\": {\n",
    "                \"type\": \"Polygon\",\n",
    "                \"coordinates\": [\n",
    "                    [\n",
    "                        [\n",
    "                            36.647443106,\n",
    "                            0.978438668,\n",
    "                \n",
    "                        ],\n",
    "                        [\n",
    "                            38.527295195,\n",
    "                            0.978438668,\n",
    "                        ],\n",
    "                        [\n",
    "                            38.527295195,\n",
    "                            2.369927492\n",
    "                        ],\n",
    "                        [\n",
    "                            36.647443106,\n",
    "                            0.978438668,\n",
    "                        ],\n",
    "                        \n",
    "                    ]\n",
    "                ],\n",
    "            },\n",
    "        },\n",
    "        \"data\": [\n",
    "            {\n",
    "                \"type\": \"sentinel-2-l2a\",\n",
    "                \"dataFilter\": {\n",
    "                    \"timeRange\": {\n",
    "                        \"from\": \"2022-10-01T00:00:00Z\",\n",
    "                        \"to\": \"2022-10-31T00:00:00Z\",\n",
    "                    }\n",
    "                },\n",
    "                \"processing\": {\"harmonizeValues\": \"true\"},\n",
    "            }\n",
    "        ],\n",
    "    },\n",
    "    \"output\": {\n",
    "        \"width\": 2500,\n",
    "        \"height\": 2500,\n",
    "        \"responses\": [\n",
    "            {\n",
    "                \"identifier\": \"default\",\n",
    "                \"format\": {\"type\": \"image/tiff\"},\n",
    "            }\n",
    "        ],\n",
    "    },\n",
    "    \"evalscript\": evalscript,\n",
    "}\n",
    "\n",
    "url = \"https://sh.dataspace.copernicus.eu/api/v1/process\"\n",
    "response = oauth.post(url, json=request)"
   ]
  },
  {
   "cell_type": "code",
   "execution_count": 62,
   "id": "ad7893f5-41aa-4110-834b-81c39c3771d9",
   "metadata": {
    "scrolled": true
   },
   "outputs": [],
   "source": [
    "#response.content"
   ]
  },
  {
   "cell_type": "code",
   "execution_count": 59,
   "id": "3278eefb-51a3-4e94-ae84-b08f9f873228",
   "metadata": {},
   "outputs": [
    {
     "name": "stdout",
     "output_type": "stream",
     "text": [
      "Failed to retrieve TIFF data. Status code: 400\n"
     ]
    }
   ],
   "source": [
    "# Check if the request was successful\n",
    "if response.status_code == 200:\n",
    "    # Open a TIFF file in binary write mode and save the content of the response\n",
    "    with open('output_raw.tiff', 'wb') as f:\n",
    "        f.write(response.content)\n",
    "    print('TIFF file saved successfully.')\n",
    "else:\n",
    "    print('Failed to retrieve TIFF data. Status code:', response.status_code)"
   ]
  },
  {
   "cell_type": "code",
   "execution_count": 73,
   "id": "ea71bf65-bb10-4948-a534-ba6810666eb8",
   "metadata": {},
   "outputs": [],
   "source": [
    "#NDVi GeoTIFF\n",
    "#get token for the session:\n",
    "\n",
    "token = oauth.fetch_token(token_url='https://identity.dataspace.copernicus.eu/auth/realms/CDSE/protocol/openid-connect/token',\n",
    "                          client_secret=client_secret)\n",
    "\n",
    "# query API:\n",
    "\n",
    "evalscript = \"\"\"\n",
    "//VERSION=3\n",
    "function setup() {\n",
    "  return {\n",
    "    input: [\n",
    "      {\n",
    "        bands: [\"B04\", \"B08\"],\n",
    "        units: \"REFLECTANCE\",\n",
    "      },\n",
    "    ],\n",
    "    output: {\n",
    "      id: \"default\",\n",
    "      bands: 1,\n",
    "      sampleType: SampleType.FLOAT32,\n",
    "    },\n",
    "  }\n",
    "}\n",
    "\n",
    "function evaluatePixel(sample) {\n",
    "  let ndvi = (sample.B08 - sample.B04) / (sample.B08 + sample.B04)\n",
    "  return [ndvi]\n",
    "}\n",
    "\"\"\"\n",
    "\n",
    "request = {\n",
    "    \"input\": {\n",
    "        \"bounds\": {\n",
    "            \"properties\": {\"crs\": \"http://www.opengis.net/def/crs/OGC/1.3/CRS84\"},\n",
    "            \"geometry\": {\n",
    "                \"type\": \"Polygon\",\n",
    "                \"coordinates\": [\n",
    "                    [\n",
    "                        [\n",
    "                            36.647443106,\n",
    "                            0.978438668,\n",
    "                \n",
    "                        ],\n",
    "                        [\n",
    "                            38.527295195,\n",
    "                            0.978438668,\n",
    "                        ],\n",
    "                        [\n",
    "                            38.527295195,\n",
    "                            2.369927492\n",
    "                        ],\n",
    "                        [\n",
    "                            36.647443106,\n",
    "                            0.978438668,\n",
    "                        ],\n",
    "                        \n",
    "                    ]\n",
    "                ],\n",
    "            },\n",
    "        },\n",
    "        \"data\": [\n",
    "            {\n",
    "                \"type\": \"sentinel-2-l2a\",\n",
    "                \"dataFilter\": {\n",
    "                    \"timeRange\": {\n",
    "                        \"from\": \"2022-10-01T00:00:00Z\",\n",
    "                        \"to\": \"2022-10-31T00:00:00Z\",\n",
    "                    }\n",
    "                },\n",
    "                \"processing\": {\"harmonizeValues\": \"true\"},\n",
    "            }\n",
    "        ],\n",
    "    },\n",
    "    \"output\": {\n",
    "        \"width\": 2500,\n",
    "        \"height\": 2500,\n",
    "        \"responses\": [\n",
    "            {\n",
    "                \"identifier\": \"default\",\n",
    "                \"format\": {\"type\": \"image/tiff\"},\n",
    "            }\n",
    "        ],\n",
    "    },\n",
    "    \"evalscript\": evalscript,\n",
    "}\n",
    "\n",
    "url = \"https://sh.dataspace.copernicus.eu/api/v1/process\"\n",
    "response = oauth.post(url, json=request)"
   ]
  },
  {
   "cell_type": "code",
   "execution_count": 74,
   "id": "79aad2f1-056d-4666-9222-1713783abc9f",
   "metadata": {},
   "outputs": [],
   "source": [
    "#response.content"
   ]
  },
  {
   "cell_type": "code",
   "execution_count": 75,
   "id": "97660b37-550f-49aa-a764-db5bd6fa832c",
   "metadata": {},
   "outputs": [
    {
     "name": "stdout",
     "output_type": "stream",
     "text": [
      "TIFF file saved successfully.\n"
     ]
    }
   ],
   "source": [
    "# Check if the request was successful\n",
    "if response.status_code == 200:\n",
    "    # Open a TIFF file in binary write mode and save the content of the response\n",
    "    with open('output_NDVI.tiff', 'wb') as f:\n",
    "        f.write(response.content)\n",
    "    print('TIFF file saved successfully.')\n",
    "else:\n",
    "    print('Failed to retrieve TIFF data. Status code:', response.status_code)"
   ]
  },
  {
   "cell_type": "code",
   "execution_count": null,
   "id": "d959cef9-ede2-48af-85cf-926a9c534f51",
   "metadata": {},
   "outputs": [],
   "source": []
  }
 ],
 "metadata": {
  "kernelspec": {
   "display_name": "Python 3 (ipykernel)",
   "language": "python",
   "name": "python3"
  },
  "language_info": {
   "codemirror_mode": {
    "name": "ipython",
    "version": 3
   },
   "file_extension": ".py",
   "mimetype": "text/x-python",
   "name": "python",
   "nbconvert_exporter": "python",
   "pygments_lexer": "ipython3",
   "version": "3.11.6"
  }
 },
 "nbformat": 4,
 "nbformat_minor": 5
}
