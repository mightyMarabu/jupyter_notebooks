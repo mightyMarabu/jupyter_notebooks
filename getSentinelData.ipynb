{
 "cells": [
  {
   "cell_type": "code",
   "execution_count": 2,
   "id": "3c6dcdc5-deeb-4383-9d6a-17de0ed43030",
   "metadata": {
    "scrolled": true
   },
   "outputs": [
    {
     "name": "stdout",
     "output_type": "stream",
     "text": [
      "Requirement already satisfied: geopandas in /opt/conda/lib/python3.11/site-packages (0.13.2)\n",
      "Requirement already satisfied: rasterio in /opt/conda/lib/python3.11/site-packages (1.3.8)\n",
      "Requirement already satisfied: folium in /opt/conda/lib/python3.11/site-packages (0.14.0)\n",
      "Requirement already satisfied: matplotlib in /opt/conda/lib/python3.11/site-packages (3.7.2)\n",
      "Requirement already satisfied: sentinelhub in /opt/conda/lib/python3.11/site-packages (3.9.1)\n",
      "Requirement already satisfied: fiona>=1.8.19 in /opt/conda/lib/python3.11/site-packages (from geopandas) (1.9.4.post1)\n",
      "Requirement already satisfied: packaging in /opt/conda/lib/python3.11/site-packages (from geopandas) (23.1)\n",
      "Requirement already satisfied: pandas>=1.1.0 in /opt/conda/lib/python3.11/site-packages (from geopandas) (2.0.3)\n",
      "Requirement already satisfied: pyproj>=3.0.1 in /opt/conda/lib/python3.11/site-packages (from geopandas) (3.6.0)\n",
      "Requirement already satisfied: shapely>=1.7.1 in /opt/conda/lib/python3.11/site-packages (from geopandas) (2.0.1)\n",
      "Requirement already satisfied: affine in /opt/conda/lib/python3.11/site-packages (from rasterio) (2.4.0)\n",
      "Requirement already satisfied: attrs in /opt/conda/lib/python3.11/site-packages (from rasterio) (23.1.0)\n",
      "Requirement already satisfied: certifi in /opt/conda/lib/python3.11/site-packages (from rasterio) (2023.5.7)\n",
      "Requirement already satisfied: click>=4.0 in /opt/conda/lib/python3.11/site-packages (from rasterio) (8.1.4)\n",
      "Requirement already satisfied: cligj>=0.5 in /opt/conda/lib/python3.11/site-packages (from rasterio) (0.7.2)\n",
      "Requirement already satisfied: numpy>=1.18 in /opt/conda/lib/python3.11/site-packages (from rasterio) (1.24.3)\n",
      "Requirement already satisfied: snuggs>=1.4.1 in /opt/conda/lib/python3.11/site-packages (from rasterio) (1.4.7)\n",
      "Requirement already satisfied: click-plugins in /opt/conda/lib/python3.11/site-packages (from rasterio) (1.1.1)\n",
      "Requirement already satisfied: setuptools in /opt/conda/lib/python3.11/site-packages (from rasterio) (68.0.0)\n",
      "Requirement already satisfied: branca>=0.6.0 in /opt/conda/lib/python3.11/site-packages (from folium) (0.6.0)\n",
      "Requirement already satisfied: jinja2>=2.9 in /opt/conda/lib/python3.11/site-packages (from folium) (3.1.2)\n",
      "Requirement already satisfied: requests in /opt/conda/lib/python3.11/site-packages (from folium) (2.31.0)\n",
      "Requirement already satisfied: contourpy>=1.0.1 in /opt/conda/lib/python3.11/site-packages (from matplotlib) (1.1.0)\n",
      "Requirement already satisfied: cycler>=0.10 in /opt/conda/lib/python3.11/site-packages (from matplotlib) (0.11.0)\n",
      "Requirement already satisfied: fonttools>=4.22.0 in /opt/conda/lib/python3.11/site-packages (from matplotlib) (4.40.0)\n",
      "Requirement already satisfied: kiwisolver>=1.0.1 in /opt/conda/lib/python3.11/site-packages (from matplotlib) (1.4.4)\n",
      "Requirement already satisfied: pillow>=6.2.0 in /opt/conda/lib/python3.11/site-packages (from matplotlib) (10.0.0)\n",
      "Requirement already satisfied: pyparsing<3.1,>=2.3.1 in /opt/conda/lib/python3.11/site-packages (from matplotlib) (3.0.9)\n",
      "Requirement already satisfied: python-dateutil>=2.7 in /opt/conda/lib/python3.11/site-packages (from matplotlib) (2.8.2)\n",
      "Requirement already satisfied: aenum>=2.1.4 in /opt/conda/lib/python3.11/site-packages (from sentinelhub) (3.1.15)\n",
      "Requirement already satisfied: dataclasses-json in /opt/conda/lib/python3.11/site-packages (from sentinelhub) (0.5.13)\n",
      "Requirement already satisfied: oauthlib in /opt/conda/lib/python3.11/site-packages (from sentinelhub) (3.2.2)\n",
      "Requirement already satisfied: requests-oauthlib>=1.0.0 in /opt/conda/lib/python3.11/site-packages (from sentinelhub) (1.3.1)\n",
      "Requirement already satisfied: tifffile>=2020.9.30 in /opt/conda/lib/python3.11/site-packages (from sentinelhub) (2023.7.4)\n",
      "Requirement already satisfied: tomli in /opt/conda/lib/python3.11/site-packages (from sentinelhub) (2.0.1)\n",
      "Requirement already satisfied: tomli-w in /opt/conda/lib/python3.11/site-packages (from sentinelhub) (1.0.0)\n",
      "Requirement already satisfied: tqdm in /opt/conda/lib/python3.11/site-packages (from sentinelhub) (4.65.0)\n",
      "Requirement already satisfied: typing-extensions in /opt/conda/lib/python3.11/site-packages (from sentinelhub) (4.5.0)\n",
      "Requirement already satisfied: utm in /opt/conda/lib/python3.11/site-packages (from sentinelhub) (0.7.0)\n",
      "Requirement already satisfied: six in /opt/conda/lib/python3.11/site-packages (from fiona>=1.8.19->geopandas) (1.16.0)\n",
      "Requirement already satisfied: MarkupSafe>=2.0 in /opt/conda/lib/python3.11/site-packages (from jinja2>=2.9->folium) (2.1.3)\n",
      "Requirement already satisfied: pytz>=2020.1 in /opt/conda/lib/python3.11/site-packages (from pandas>=1.1.0->geopandas) (2023.3)\n",
      "Requirement already satisfied: tzdata>=2022.1 in /opt/conda/lib/python3.11/site-packages (from pandas>=1.1.0->geopandas) (2023.3)\n",
      "Requirement already satisfied: charset-normalizer<4,>=2 in /opt/conda/lib/python3.11/site-packages (from requests->folium) (3.1.0)\n",
      "Requirement already satisfied: idna<4,>=2.5 in /opt/conda/lib/python3.11/site-packages (from requests->folium) (3.4)\n",
      "Requirement already satisfied: urllib3<3,>=1.21.1 in /opt/conda/lib/python3.11/site-packages (from requests->folium) (1.26.16)\n",
      "Requirement already satisfied: marshmallow<4.0.0,>=3.18.0 in /opt/conda/lib/python3.11/site-packages (from dataclasses-json->sentinelhub) (3.20.1)\n",
      "Requirement already satisfied: typing-inspect<1,>=0.4.0 in /opt/conda/lib/python3.11/site-packages (from dataclasses-json->sentinelhub) (0.9.0)\n",
      "Requirement already satisfied: mypy-extensions>=0.3.0 in /opt/conda/lib/python3.11/site-packages (from typing-inspect<1,>=0.4.0->dataclasses-json->sentinelhub) (1.0.0)\n"
     ]
    }
   ],
   "source": [
    "!pip install geopandas rasterio folium matplotlib sentinelhub\n"
   ]
  },
  {
   "cell_type": "code",
   "execution_count": 1,
   "id": "ae9a61b1-a262-4ead-9b04-e28002b0eb28",
   "metadata": {
    "scrolled": true
   },
   "outputs": [
    {
     "name": "stderr",
     "output_type": "stream",
     "text": [
      "/opt/conda/lib/python3.11/site-packages/tqdm/auto.py:21: TqdmWarning: IProgress not found. Please update jupyter and ipywidgets. See https://ipywidgets.readthedocs.io/en/stable/user_install.html\n",
      "  from .autonotebook import tqdm as notebook_tqdm\n"
     ]
    }
   ],
   "source": [
    "from sentinelhub import SHConfig, DataCollection, SentinelHubRequest, bbox_to_dimensions, SentinelHubDownloadClient, MimeType, BBox, CRS, Geometry\n",
    "import datetime\n",
    "import time\n",
    "\n",
    "from superSecret import jupyter_client_id, jupyter_secret\n",
    "\n",
    "# Configure your Sentinel Hub account\n",
    "config = SHConfig()\n",
    "config.sh_client_id = jupyter_client_id\n",
    "config.sh_client_secret = jupyter_secret\n"
   ]
  },
  {
   "cell_type": "code",
   "execution_count": 2,
   "id": "396db028-1053-4a18-860f-ebca34a37008",
   "metadata": {},
   "outputs": [],
   "source": [
    "from superSecret import kenya_client_id, secret, jupyter_client_id, jupyter_secret\n",
    "\n",
    "from oauthlib.oauth2 import BackendApplicationClient\n",
    "from requests_oauthlib import OAuth2Session\n",
    "\n",
    "# Your client credentials\n",
    "client_id = 'sh-f409cb6a-725d-469c-a88d-159bfee1f813' \n",
    "#client_id = jupyter_client_id[0]\n",
    "client_secret = 'en7cPBKZ81BAUzofUekgivFBbtpRCCRD' #jupyter_secret\n",
    "\n",
    "#client_id = str(jupyter_client_id)\n",
    "#client_secret = str(jupyter_secret[0])\n",
    "\n",
    "# Create a session\n",
    "client = BackendApplicationClient(client_id=client_id)\n",
    "oauth = OAuth2Session(client=client)\n",
    "\n",
    "# Get token for the session\n",
    "token = oauth.fetch_token(token_url='https://identity.dataspace.copernicus.eu/auth/realms/CDSE/protocol/openid-connect/token',\n",
    "                          client_secret=client_secret)\n",
    "\n",
    "# All requests using this session will have an access token automatically added\n",
    "#resp = oauth.get(\"...\")\n",
    "#print(resp.content)\n",
    "def sentinelhub_compliance_hook(response):\n",
    "    response.raise_for_status()\n",
    "    return response\n",
    "\n",
    "oauth.register_compliance_hook(\"access_token_response\", sentinelhub_compliance_hook)"
   ]
  },
  {
   "cell_type": "code",
   "execution_count": 3,
   "id": "9bb57e72-bf4f-422d-9d65-1134fe20105d",
   "metadata": {},
   "outputs": [
    {
     "name": "stdout",
     "output_type": "stream",
     "text": [
      "2024-03-18 14:52:05.231494\n"
     ]
    }
   ],
   "source": [
    "#token['expires_at']\n",
    "token_expires_at = datetime.datetime.fromtimestamp(token['expires_at'])\n",
    "print(token_expires_at)"
   ]
  },
  {
   "cell_type": "code",
   "execution_count": 38,
   "id": "eee2c8d8-1d8f-45ae-ab93-49f025c9534b",
   "metadata": {},
   "outputs": [],
   "source": [
    "# Define the time range for the NDVI time series and boundingBox\n",
    "\n",
    "#start_date = datetime.datetime(2024,2,2)\n",
    "#end_date = datetime.datetime(2024,2,27)\n",
    "## WIZ\n",
    "start_date = datetime.datetime(2024,1,29)\n",
    "end_date = datetime.datetime(2024,1,29)\n",
    "\n",
    "\n",
    "#step_days = 5\n",
    "step_days = 1\n",
    "\n",
    "#date_range = [start_date + datetime.timedelta(days=x) for x in range((end_date-start_date).days + 1, step_days)]\n",
    "date_range = [start_date + datetime.timedelta(days=x) for x in range(0, (end_date - start_date).days + 1, step_days)]\n",
    "\n",
    "boundingBox = [\n",
    "#                    38.6587,\n",
    "#                    3.0251,\n",
    "#                    38.8612,\n",
    "#                    3.1515\n",
    "                     9.85,\n",
    "                    51.3,\n",
    "                     9.95,\n",
    "                    51.4\n",
    "                     \n",
    "]\n",
    "\n",
    "\n",
    "\n",
    "#with open(evalscript_filename, 'r') as file:\n",
    "#    evalscript_content = file.read()\n",
    "\n",
    "rgb_nir = \"\"\"\n",
    "//VERSION=3\n",
    "function setup() {\n",
    "  return {\n",
    "    input: [\"B02\", \"B03\", \"B04\", \"B08\"],\n",
    "    output: { bands: 4 },\n",
    "  }\n",
    "}\n",
    "\n",
    "function evaluatePixel(sample) {\n",
    "  return [2.5 * sample.B04, 2.5 * sample.B03, 2.5 * sample.B02]\n",
    "}\n",
    "\"\"\"\n",
    "\n",
    "ndvi = \"\"\"\n",
    "//VERSION=3\n",
    "function setup() {\n",
    "  return {\n",
    "    input: [\"B04\", \"B08\"], // red and nir bands\n",
    "    output: { bands: 1 },  // NDVI output\n",
    "  }\n",
    "}\n",
    "\n",
    "function evaluatePixel(sample) {\n",
    "  return [(sample.B08 - sample.B04)/(sample.B08 + sample.B04)]  // NDVI calculation\n",
    "}\n",
    "\"\"\"\n",
    "def getData(scriptName, locationName):\n",
    "    for timestamp in date_range:\n",
    "        request = {\n",
    "            \"input\": {\n",
    "                \"bounds\": {\n",
    "                    \"properties\": {\"crs\": \"http://www.opengis.net/def/crs/OGC/1.3/CRS84\"},\n",
    "                    \"bbox\": boundingBox,\n",
    "                },\n",
    "                \"data\": [\n",
    "                    {\n",
    "                        \"type\": \"sentinel-2-l2a\",\n",
    "                        \"dataFilter\": {\n",
    "                            \"timeRange\": {\n",
    "                                \"from\": timestamp.strftime('%Y-%m-%dT00:00:00Z'),\n",
    "                                \"to\": timestamp.strftime('%Y-%m-%dT23:59:59Z'),\n",
    "                            }\n",
    "                        },\n",
    "                    }\n",
    "                ],\n",
    "            },\n",
    "            \"output\": {\n",
    "                \"width\": 2500,\n",
    "                \"height\": 2500,\n",
    "            },\n",
    "            \"evalscript\": scriptName,\n",
    "            \n",
    "        }\n",
    "        \n",
    "        url = \"https://sh.dataspace.copernicus.eu/api/v1/process\"\n",
    "        \n",
    "        response = oauth.post(url, json=request, headers={\"Accept\": \"image/tiff\"})\n",
    "        if response.status_code == 200:\n",
    "            # Specify the local file path where you want to save each timestamp's NDVI data\n",
    "            local_file_path = f\"./output/{locationName}_{timestamp.strftime('%Y%m%d')}.tif\"\n",
    "        \n",
    "            # Open the local file in binary write mode and write the response content\n",
    "            with open(local_file_path, \"wb\") as file:\n",
    "                file.write(response.content)\n",
    "    \n",
    "            print(f\"{scriptName} data for {timestamp} saved successfully to: {local_file_path}\")\n",
    "        elif response.status_code == 429:\n",
    "            # 429 status code indicates rate limiting, wait for a minute\n",
    "            print(\"Rate limit exceeded. Waiting for one minute...\")\n",
    "            time.sleep(60)\n",
    "            # Retry the same request\n",
    "            response = oauth.post(url, json=request, headers={\"Accept\": \"image/tiff\"})\n",
    "        else:\n",
    "            print(f\"Error: {response.status_code}, {response.text}\")\n",
    "    \n",
    "        # Introduce a delay between requests\n",
    "        time.sleep(60 / 50)  # 60 seconds / 50 requests per minute"
   ]
  },
  {
   "cell_type": "code",
   "execution_count": 39,
   "id": "5b8bd69c-26ec-4b4b-8b06-752b928c127b",
   "metadata": {},
   "outputs": [
    {
     "name": "stdout",
     "output_type": "stream",
     "text": [
      "\n",
      "//VERSION=3\n",
      "function setup() {\n",
      "  return {\n",
      "    input: [\"B04\", \"B08\"], // red and nir bands\n",
      "    output: { bands: 1 },  // NDVI output\n",
      "  }\n",
      "}\n",
      "\n",
      "function evaluatePixel(sample) {\n",
      "  return [(sample.B08 - sample.B04)/(sample.B08 + sample.B04)]  // NDVI calculation\n",
      "}\n",
      " data for 2024-01-29 00:00:00 saved successfully to: ./output/wiz_ndvi_20240129.tif\n"
     ]
    }
   ],
   "source": [
    "#getData(rgb_nir,\"wiz\")\n",
    "getData(ndvi,\"wiz_ndvi\")"
   ]
  },
  {
   "cell_type": "code",
   "execution_count": null,
   "id": "78e761f7-0e4c-4d72-8709-1d29935d3cb2",
   "metadata": {},
   "outputs": [],
   "source": []
  }
 ],
 "metadata": {
  "kernelspec": {
   "display_name": "Python 3 (ipykernel)",
   "language": "python",
   "name": "python3"
  },
  "language_info": {
   "codemirror_mode": {
    "name": "ipython",
    "version": 3
   },
   "file_extension": ".py",
   "mimetype": "text/x-python",
   "name": "python",
   "nbconvert_exporter": "python",
   "pygments_lexer": "ipython3",
   "version": "3.11.4"
  }
 },
 "nbformat": 4,
 "nbformat_minor": 5
}
