{
 "cells": [
  {
   "cell_type": "markdown",
   "id": "f259eb94-3bb2-4490-9c6c-6c5f15c3011f",
   "metadata": {
    "tags": []
   },
   "source": [
    "## query the sentinel api\n",
    "* make a request\n",
    "* search the result\n",
    "* get download link\n",
    "* download and save file\n"
   ]
  },
  {
   "cell_type": "code",
   "execution_count": 19,
   "id": "db299ac1-bf72-4bbf-945f-537574497743",
   "metadata": {
    "tags": []
   },
   "outputs": [
    {
     "name": "stdout",
     "output_type": "stream",
     "text": [
      "<Response [200]>\n"
     ]
    }
   ],
   "source": [
    "#sentinel API\n",
    "import requests\n",
    "#LatLng = ('37.30488,01.85034') # Ngurunit\n",
    "#LatLng = ('37.898626114941905,2.27305876687853') # near Marsabit\n",
    "footprint = 'POLYGON((37.32548632535571 1.8491098129258177,38.06615104713074 1.8491098129258177,38.06615104713074 2.582527953220037,37.32548632535571 2.582527953220037,37.32548632535571 1.8491098129258177))'\n",
    "#prodType = 'SLC'\n",
    "prodType = 'S2MSI2A' #,S2MSI1C, S2MS2Ap\n",
    "days = '120'\n",
    "\n",
    "API = 'https://scihub.copernicus.eu/dhus/search?q=ingestiondate:[NOW-'+days+'DAY%20TO%20NOW]%20AND%20producttype:'+prodType+'%20AND%20footprint:\"Intersects('+footprint+')\"&%20rows=100&start=0&format=json'\n",
    "\n",
    "from requests.auth import HTTPBasicAuth\n",
    "\n",
    "r = requests.get(API,auth=('sebastiannormann', 'Goatscanfly_2022'))\n",
    "print(r)"
   ]
  },
  {
   "cell_type": "code",
   "execution_count": 22,
   "id": "59911123-f208-45d0-b379-e85871f348a4",
   "metadata": {
    "tags": []
   },
   "outputs": [],
   "source": [
    "#r.headers['content-type']\n",
    "#'application/json; charset=utf8'\n",
    "\n",
    "searchResult = r.json()\n",
    "\n",
    "#searchResult"
   ]
  },
  {
   "cell_type": "code",
   "execution_count": 23,
   "id": "9474d7d4-18ed-440a-92d5-86a0654fb2a7",
   "metadata": {
    "tags": []
   },
   "outputs": [
    {
     "name": "stdout",
     "output_type": "stream",
     "text": [
      "\n",
      "title: S2B_MSIL2A_20230622T073619_N0509_R092_T37NCC_20230622T104305\n",
      "Date: 2023-06-22T07:36:19.024Z, Instrument: MSI, Satellite: Sentinel-2, Size: 1.09 GB\n",
      "cloudcover:\n",
      "{'name': 'mediumprobacloudspercentage', 'content': '7.504723'}\n",
      "{'name': 'highprobacloudspercentage', 'content': '18.717894'}\n",
      "downloadlink: https://scihub.copernicus.eu/dhus/odata/v1/Products('b1fa8568-e3d4-4685-9cd8-cf1a94396bd7')/$value\n",
      "\n",
      "title: S2A_MSIL2A_20230617T073621_N0509_R092_T37NCC_20230617T115602\n",
      "Date: 2023-06-17T07:36:21.024Z, Instrument: MSI, Satellite: Sentinel-2, Size: 1.09 GB\n",
      "cloudcover:\n",
      "{'name': 'mediumprobacloudspercentage', 'content': '3.136944'}\n",
      "{'name': 'highprobacloudspercentage', 'content': '10.883975'}\n",
      "downloadlink: https://scihub.copernicus.eu/dhus/odata/v1/Products('676fa3d2-5a10-4780-a1d1-2a1241c54281')/$value\n",
      "\n",
      "title: S2B_MSIL2A_20230612T073619_N0509_R092_T37NCC_20230612T101141\n",
      "Date: 2023-06-12T07:36:19.024Z, Instrument: MSI, Satellite: Sentinel-2, Size: 1.11 GB\n",
      "cloudcover:\n",
      "{'name': 'mediumprobacloudspercentage', 'content': '0.590728'}\n",
      "{'name': 'highprobacloudspercentage', 'content': '0.438336'}\n",
      "downloadlink: https://scihub.copernicus.eu/dhus/odata/v1/Products('0d049ddc-8e71-41f7-8133-091087fb7fe2')/$value\n",
      "\n",
      "title: S2A_MSIL2A_20230607T073621_N0509_R092_T37NCC_20230607T110958\n",
      "Date: 2023-06-07T07:36:21.024Z, Instrument: MSI, Satellite: Sentinel-2, Size: 1.12 GB\n",
      "cloudcover:\n",
      "{'name': 'mediumprobacloudspercentage', 'content': '3.081194'}\n",
      "{'name': 'highprobacloudspercentage', 'content': '1.734244'}\n",
      "downloadlink: https://scihub.copernicus.eu/dhus/odata/v1/Products('b1838d09-90ea-4f2b-a82e-5543b23935bb')/$value\n",
      "\n",
      "title: S2B_MSIL2A_20230602T073619_N0509_R092_T37NCC_20230602T101126\n",
      "Date: 2023-06-02T07:36:19.024Z, Instrument: MSI, Satellite: Sentinel-2, Size: 1.11 GB\n",
      "cloudcover:\n",
      "{'name': 'mediumprobacloudspercentage', 'content': '6.278682'}\n",
      "{'name': 'highprobacloudspercentage', 'content': '6.647068'}\n",
      "downloadlink: https://scihub.copernicus.eu/dhus/odata/v1/Products('3943aa50-c705-42a5-924f-140668481881')/$value\n",
      "\n",
      "title: S2A_MSIL2A_20230528T073621_N0509_R092_T37NCC_20230528T112055\n",
      "Date: 2023-05-28T07:36:21.024Z, Instrument: MSI, Satellite: Sentinel-2, Size: 1.01 GB\n",
      "cloudcover:\n",
      "{'name': 'mediumprobacloudspercentage', 'content': '24.612489'}\n",
      "{'name': 'highprobacloudspercentage', 'content': '19.119111'}\n",
      "downloadlink: https://scihub.copernicus.eu/dhus/odata/v1/Products('fdb5ced5-b2e6-44d2-b911-66b1da56274b')/$value\n",
      "\n",
      "title: S2B_MSIL2A_20230523T073619_N0509_R092_T37NCC_20230523T101134\n",
      "Date: 2023-05-23T07:36:19.024Z, Instrument: MSI, Satellite: Sentinel-2, Size: 1.08 GB\n",
      "cloudcover:\n",
      "{'name': 'mediumprobacloudspercentage', 'content': '9.423432'}\n",
      "{'name': 'highprobacloudspercentage', 'content': '35.246706'}\n",
      "downloadlink: https://scihub.copernicus.eu/dhus/odata/v1/Products('1a4e0c1e-5b33-44dc-a4ae-d9aa072bdd0e')/$value\n",
      "\n",
      "title: S2A_MSIL2A_20230518T073621_N0509_R092_T37NCC_20230518T114754\n",
      "Date: 2023-05-18T07:36:21.024Z, Instrument: MSI, Satellite: Sentinel-2, Size: 1.11 GB\n",
      "cloudcover:\n",
      "{'name': 'mediumprobacloudspercentage', 'content': '0.981792'}\n",
      "{'name': 'highprobacloudspercentage', 'content': '0.994967'}\n",
      "downloadlink: https://scihub.copernicus.eu/dhus/odata/v1/Products('72c50056-0bd6-4909-a679-2ad9695993ab')/$value\n",
      "\n",
      "title: S2B_MSIL2A_20230513T073619_N0509_R092_T37NCC_20230513T101253\n",
      "Date: 2023-05-13T07:36:19.024Z, Instrument: MSI, Satellite: Sentinel-2, Size: 1.13 GB\n",
      "cloudcover:\n",
      "{'name': 'mediumprobacloudspercentage', 'content': '7.230441'}\n",
      "{'name': 'highprobacloudspercentage', 'content': '10.101645'}\n",
      "downloadlink: https://scihub.copernicus.eu/dhus/odata/v1/Products('259aeaa0-2b06-468b-832f-9198f2169c4a')/$value\n",
      "\n",
      "title: S2A_MSIL2A_20230508T073611_N0509_R092_T37NCC_20230508T111159\n",
      "Date: 2023-05-08T07:36:11.024Z, Instrument: MSI, Satellite: Sentinel-2, Size: 1.10 GB\n",
      "cloudcover:\n",
      "{'name': 'mediumprobacloudspercentage', 'content': '13.112067'}\n",
      "{'name': 'highprobacloudspercentage', 'content': '14.446393'}\n",
      "downloadlink: https://scihub.copernicus.eu/dhus/odata/v1/Products('ebb04753-c2ef-40c2-8c38-09a0be2c322f')/$value\n"
     ]
    }
   ],
   "source": [
    "#searchResult\n",
    "#searchResult['feed']['entry']\n",
    "for scene in searchResult['feed']['entry']:\n",
    "    print ('\\ntitle: ' +scene['title'])\n",
    "    print (scene['summary'])\n",
    "    print ('cloudcover:')\n",
    "    print (scene['double'][6])\n",
    "    print (scene['double'][7])\n",
    "    print ('downloadlink: '+scene['link'][0]['href'])"
   ]
  },
  {
   "cell_type": "code",
   "execution_count": 14,
   "id": "a4d9831a-db5e-4fe8-b837-35b72574d9ee",
   "metadata": {
    "tags": []
   },
   "outputs": [],
   "source": [
    "fileName = searchResult['feed']['entry'][2]['title']\n",
    "downloadLink = searchResult['feed']['entry'][2]['link'][0]['href']\n"
   ]
  },
  {
   "cell_type": "code",
   "execution_count": 15,
   "id": "64ce3e01-ee63-4c7e-a044-929de9a4f4ee",
   "metadata": {},
   "outputs": [],
   "source": [
    "file = requests.get(downloadLink,auth=('sebastiannormann', 'Goatscanfly_2022'))"
   ]
  },
  {
   "cell_type": "code",
   "execution_count": 16,
   "id": "0cf7839f-8c8c-4eaf-9caf-66e530d3a700",
   "metadata": {
    "tags": []
   },
   "outputs": [
    {
     "data": {
      "text/plain": [
       "<Response [200]>"
      ]
     },
     "execution_count": 16,
     "metadata": {},
     "output_type": "execute_result"
    }
   ],
   "source": [
    "file"
   ]
  },
  {
   "cell_type": "code",
   "execution_count": 17,
   "id": "28e2038a-c1f9-498f-834f-88ba946c8d1c",
   "metadata": {
    "tags": []
   },
   "outputs": [],
   "source": [
    "# save file\n",
    "with open('satData/'+fileName+'.zip','wb') as f:\n",
    "    f.write(file.content)"
   ]
  },
  {
   "cell_type": "code",
   "execution_count": 18,
   "id": "60a4b860-dd01-4166-8709-44f1cdcc2eff",
   "metadata": {
    "tags": []
   },
   "outputs": [],
   "source": [
    "# unzip file\n",
    "from zipfile import ZipFile\n",
    "\n",
    "with ZipFile(\"satData/\"+fileName+\".zip\", 'r') as zObject:\n",
    "    zObject.extractall(\n",
    "      path=\"satData/\")"
   ]
  },
  {
   "cell_type": "code",
   "execution_count": null,
   "id": "835b252f-02a0-4b7a-a300-921c531dd8fb",
   "metadata": {},
   "outputs": [],
   "source": []
  }
 ],
 "metadata": {
  "kernelspec": {
   "display_name": "Python 3 (ipykernel)",
   "language": "python",
   "name": "python3"
  },
  "language_info": {
   "codemirror_mode": {
    "name": "ipython",
    "version": 3
   },
   "file_extension": ".py",
   "mimetype": "text/x-python",
   "name": "python",
   "nbconvert_exporter": "python",
   "pygments_lexer": "ipython3",
   "version": "3.11.4"
  }
 },
 "nbformat": 4,
 "nbformat_minor": 5
}
