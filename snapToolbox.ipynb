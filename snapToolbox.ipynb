{
 "cells": [
  {
   "cell_type": "code",
   "execution_count": 3,
   "id": "041cf382-92a9-4b2e-9317-cfd568c1c381",
   "metadata": {
    "tags": []
   },
   "outputs": [
    {
     "ename": "ImportError",
     "evalue": "cannot import name 'ProductIO' from 'snappy' (/opt/conda/lib/python3.10/site-packages/snappy/__init__.py)",
     "output_type": "error",
     "traceback": [
      "\u001b[0;31m---------------------------------------------------------------------------\u001b[0m",
      "\u001b[0;31mImportError\u001b[0m                               Traceback (most recent call last)",
      "Cell \u001b[0;32mIn[3], line 1\u001b[0m\n\u001b[0;32m----> 1\u001b[0m \u001b[38;5;28;01mfrom\u001b[39;00m \u001b[38;5;21;01msnappy\u001b[39;00m \u001b[38;5;28;01mimport\u001b[39;00m ProductIO\n",
      "\u001b[0;31mImportError\u001b[0m: cannot import name 'ProductIO' from 'snappy' (/opt/conda/lib/python3.10/site-packages/snappy/__init__.py)"
     ]
    }
   ],
   "source": [
    "from snappy import ProductIO"
   ]
  },
  {
   "cell_type": "code",
   "execution_count": null,
   "id": "4bf2494c-2f33-41d0-a085-49b6b1fab380",
   "metadata": {},
   "outputs": [],
   "source": []
  },
  {
   "cell_type": "code",
   "execution_count": null,
   "id": "3432af1c-077b-4f84-93ba-d90fd3c88ba1",
   "metadata": {},
   "outputs": [],
   "source": []
  }
 ],
 "metadata": {
  "kernelspec": {
   "display_name": "Python 3 (ipykernel)",
   "language": "python",
   "name": "python3"
  },
  "language_info": {
   "codemirror_mode": {
    "name": "ipython",
    "version": 3
   },
   "file_extension": ".py",
   "mimetype": "text/x-python",
   "name": "python",
   "nbconvert_exporter": "python",
   "pygments_lexer": "ipython3",
   "version": "3.10.9"
  }
 },
 "nbformat": 4,
 "nbformat_minor": 5
}
