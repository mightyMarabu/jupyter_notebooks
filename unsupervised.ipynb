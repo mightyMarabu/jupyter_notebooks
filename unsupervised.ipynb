{
 "cells": [
  {
   "cell_type": "code",
   "execution_count": 2,
   "id": "a28817e4-abbe-432f-b079-034ec59c5b4c",
   "metadata": {
    "scrolled": true
   },
   "outputs": [
    {
     "name": "stdout",
     "output_type": "stream",
     "text": [
      "Collecting geopandas\n",
      "  Downloading geopandas-0.13.2-py3-none-any.whl (1.1 MB)\n",
      "\u001b[2K     \u001b[90m━━━━━━━━━━━━━━━━━━━━━━━━━━━━━━━━━━━━━━━━\u001b[0m \u001b[32m1.1/1.1 MB\u001b[0m \u001b[31m4.0 MB/s\u001b[0m eta \u001b[36m0:00:00\u001b[0m00:01\u001b[0m00:01\u001b[0m\n",
      "\u001b[?25hCollecting fiona>=1.8.19 (from geopandas)\n",
      "  Downloading Fiona-1.9.4.post1-cp311-cp311-manylinux_2_17_x86_64.manylinux2014_x86_64.whl (16.4 MB)\n",
      "\u001b[2K     \u001b[90m━━━━━━━━━━━━━━━━━━━━━━━━━━━━━━━━━━━━━━━━\u001b[0m \u001b[32m16.4/16.4 MB\u001b[0m \u001b[31m4.7 MB/s\u001b[0m eta \u001b[36m0:00:00\u001b[0m00:01\u001b[0m00:01\u001b[0m\n",
      "\u001b[?25hRequirement already satisfied: packaging in /opt/conda/lib/python3.11/site-packages (from geopandas) (23.1)\n",
      "Collecting pandas>=1.1.0 (from geopandas)\n",
      "  Downloading pandas-2.0.3-cp311-cp311-manylinux_2_17_x86_64.manylinux2014_x86_64.whl (12.2 MB)\n",
      "\u001b[2K     \u001b[90m━━━━━━━━━━━━━━━━━━━━━━━━━━━━━━━━━━━━━━━━\u001b[0m \u001b[32m12.2/12.2 MB\u001b[0m \u001b[31m5.2 MB/s\u001b[0m eta \u001b[36m0:00:00\u001b[0m00:01\u001b[0m00:01\u001b[0m\n",
      "\u001b[?25hCollecting pyproj>=3.0.1 (from geopandas)\n",
      "  Downloading pyproj-3.6.0-cp311-cp311-manylinux_2_17_x86_64.manylinux2014_x86_64.whl (8.0 MB)\n",
      "\u001b[2K     \u001b[90m━━━━━━━━━━━━━━━━━━━━━━━━━━━━━━━━━━━━━━━━\u001b[0m \u001b[32m8.0/8.0 MB\u001b[0m \u001b[31m5.0 MB/s\u001b[0m eta \u001b[36m0:00:00\u001b[0m00:01\u001b[0m00:01\u001b[0m\n",
      "\u001b[?25hRequirement already satisfied: shapely>=1.7.1 in /opt/conda/lib/python3.11/site-packages (from geopandas) (2.0.1)\n",
      "Requirement already satisfied: attrs>=19.2.0 in /opt/conda/lib/python3.11/site-packages (from fiona>=1.8.19->geopandas) (23.1.0)\n",
      "Requirement already satisfied: certifi in /opt/conda/lib/python3.11/site-packages (from fiona>=1.8.19->geopandas) (2023.5.7)\n",
      "Requirement already satisfied: click~=8.0 in /opt/conda/lib/python3.11/site-packages (from fiona>=1.8.19->geopandas) (8.1.3)\n",
      "Requirement already satisfied: click-plugins>=1.0 in /opt/conda/lib/python3.11/site-packages (from fiona>=1.8.19->geopandas) (1.1.1)\n",
      "Requirement already satisfied: cligj>=0.5 in /opt/conda/lib/python3.11/site-packages (from fiona>=1.8.19->geopandas) (0.7.2)\n",
      "Requirement already satisfied: six in /opt/conda/lib/python3.11/site-packages (from fiona>=1.8.19->geopandas) (1.16.0)\n",
      "Requirement already satisfied: python-dateutil>=2.8.2 in /opt/conda/lib/python3.11/site-packages (from pandas>=1.1.0->geopandas) (2.8.2)\n",
      "Requirement already satisfied: pytz>=2020.1 in /opt/conda/lib/python3.11/site-packages (from pandas>=1.1.0->geopandas) (2023.3)\n",
      "Collecting tzdata>=2022.1 (from pandas>=1.1.0->geopandas)\n",
      "  Downloading tzdata-2023.3-py2.py3-none-any.whl (341 kB)\n",
      "\u001b[2K     \u001b[90m━━━━━━━━━━━━━━━━━━━━━━━━━━━━━━━━━━━━━━━\u001b[0m \u001b[32m341.8/341.8 kB\u001b[0m \u001b[31m2.3 MB/s\u001b[0m eta \u001b[36m0:00:00\u001b[0m00:01\u001b[0m00:01\u001b[0m\n",
      "\u001b[?25hRequirement already satisfied: numpy>=1.21.0 in /opt/conda/lib/python3.11/site-packages (from pandas>=1.1.0->geopandas) (1.23.5)\n",
      "Installing collected packages: tzdata, pyproj, pandas, fiona, geopandas\n",
      "Successfully installed fiona-1.9.4.post1 geopandas-0.13.2 pandas-2.0.3 pyproj-3.6.0 tzdata-2023.3\n"
     ]
    }
   ],
   "source": [
    "!pip install geopandas"
   ]
  },
  {
   "cell_type": "code",
   "execution_count": 23,
   "id": "ab35a6f3-dd18-4abd-bcd5-5e3a1d4085e4",
   "metadata": {},
   "outputs": [],
   "source": [
    "import os\n",
    "from glob import glob\n",
    "import numpy as np\n",
    "from scipy.io import loadmat\n",
    "import rasterio as rio\n",
    "from rasterio import mask\n",
    "import geopandas as gpd\n",
    "from rasterio.plot import show\n",
    "\n",
    "from sklearn import cluster\n",
    "from osgeo import gdal, gdal_array\n",
    "import matplotlib.pyplot as plt\n",
    "\n",
    "# Tell GDAL to throw Python exceptions, and register all drivers\n",
    "gdal.UseExceptions()\n",
    "gdal.AllRegister()"
   ]
  },
  {
   "cell_type": "code",
   "execution_count": null,
   "id": "c859e9e4-e042-41ae-92d3-ffaf6475777b",
   "metadata": {},
   "outputs": [],
   "source": [
    "############# to do --> read data function ##################################\n",
    "root_directory = '/home/jovyan/output'\n",
    "\n",
    "image_list = []\n",
    "\n",
    "for path, subdirs, files in os.walk(root_directory):\n",
    "    print(path)  \n",
    "    dirname = path.split(os.path.sep)[-1]\n",
    "    #if dirname == 'R10m':   #Find all 'images' directories\n",
    "    #if dirname == 'masks':   #Find all 'images' directories\n",
    "    #if dirname == 'data':   #Find all 'images' directories\n",
    "    if dirname == 'output':   #Find all 'images' directories\n",
    "        images = os.listdir(path)  #List of all image names in this subdirectory\n",
    "        for i, image_name in enumerate(images):  \n",
    "            if image_name.endswith(\"0212.tif\"): \n",
    "               #print(image_name)\n",
    "               image_list.append(image_name)\n",
    "               #image_name = rio.open(root_directory+'/'+image_name)\n",
    "image_list\n",
    "#############################################################################"
   ]
  },
  {
   "cell_type": "code",
   "execution_count": null,
   "id": "eb2c38b1-1190-472e-b719-35c2641b1056",
   "metadata": {},
   "outputs": [],
   "source": [
    "for image in image_list:\n",
    "    print (image)\n",
    "    S_sentinel_bands = glob(root_directory+'/'+image)\n",
    "#S_sentinel_bands = glob(\"/home/jovyan/output/sololo_20240212.tif\")\n",
    "    S_sentinel_bands.sort()\n",
    "    print(S_sentinel_bands)\n",
    "#S_sentinel_bands = clipped_bands\n",
    "    l = []\n",
    "    for i in S_sentinel_bands:\n",
    "      with rio.open(i, 'r') as f:\n",
    "          print (i)\n",
    "          l.append(f.read(1))\n",
    "          arr_st = np.stack(l)\n",
    "          for i in S_sentinel_bands:\n",
    "            img_ds = gdal.Open(i, gdal.GA_ReadOnly)\n",
    "            \n",
    "            img = np.zeros((img_ds.RasterYSize, img_ds.RasterXSize, img_ds.RasterCount),\n",
    "                          gdal_array.GDALTypeCodeToNumericTypeCode(img_ds.GetRasterBand(1).DataType))\n",
    "            \n",
    "            for b in range(img.shape[2]):\n",
    "                img[:, :, b] = img_ds.GetRasterBand(b + 1).ReadAsArray()\n",
    "\n",
    "            new_shape = (img.shape[0] * img.shape[1], img.shape[2])\n",
    "            X = img[:, :, :4].reshape(new_shape)\n",
    "            k_means = cluster.KMeans(n_clusters=10, n_init=10)\n",
    "            k_means.fit(X)\n",
    "            \n",
    "            X_cluster = k_means.labels_\n",
    "            X_cluster = X_cluster.reshape(img[:, :, 0].shape)\n",
    "\n",
    "            plt.figure(figsize=(20,20))\n",
    "            plt.imshow(X_cluster, cmap=\"tab10\")\n",
    "            plt.title(\"classified \"+image, fontsize=16, fontweight=\"bold\")\n",
    "            plt.show()\n",
    "\n",
    "            output_file = root_directory+'/'+\"classified_\"+image\n",
    "            with rio.open(output_file, 'w', driver='GTiff', height=height, width=width, count=count, dtype=dtype, crs=f.crs, transform=transform) as dst:\n",
    "                dst.write(X_cluster, 1)"
   ]
  },
  {
   "cell_type": "code",
   "execution_count": null,
   "id": "9fda0408-be1f-4511-89c0-79ed1245eade",
   "metadata": {},
   "outputs": [],
   "source": []
  },
  {
   "cell_type": "code",
   "execution_count": 41,
   "id": "22952873-2a0b-4f5d-ad53-5ac48353557d",
   "metadata": {},
   "outputs": [
    {
     "data": {
      "text/plain": [
       "CRS.from_epsg(4326)"
      ]
     },
     "execution_count": 41,
     "metadata": {},
     "output_type": "execute_result"
    }
   ],
   "source": [
    "f.crs"
   ]
  },
  {
   "cell_type": "code",
   "execution_count": null,
   "id": "236b19a5-05a2-4793-aeb5-9f17d93ba6c6",
   "metadata": {},
   "outputs": [],
   "source": []
  },
  {
   "cell_type": "code",
   "execution_count": null,
   "id": "a1557078-2f10-4018-b26d-f0d43450db3b",
   "metadata": {},
   "outputs": [],
   "source": []
  },
  {
   "cell_type": "code",
   "execution_count": null,
   "id": "b66f1b92-be25-4fbc-8bab-353872dfb666",
   "metadata": {},
   "outputs": [],
   "source": []
  },
  {
   "cell_type": "code",
   "execution_count": null,
   "id": "22bdb0eb-1d64-4dda-ae61-05bbf68c3353",
   "metadata": {},
   "outputs": [],
   "source": []
  },
  {
   "cell_type": "code",
   "execution_count": null,
   "id": "e85dbfe4-5804-4a8e-b349-2a9a0f530cae",
   "metadata": {},
   "outputs": [],
   "source": []
  },
  {
   "cell_type": "code",
   "execution_count": 47,
   "id": "cd99819d-42c2-4572-800a-e4093df6580f",
   "metadata": {},
   "outputs": [
    {
     "name": "stdout",
     "output_type": "stream",
     "text": [
      "/home/jovyan/output\n",
      "/home/jovyan/output/.ipynb_checkpoints\n"
     ]
    },
    {
     "data": {
      "text/plain": [
       "['classified_sololo_20240212.tif']"
      ]
     },
     "execution_count": 47,
     "metadata": {},
     "output_type": "execute_result"
    }
   ],
   "source": [
    "############# to do --> read data function ##################################\n",
    "root_directory = '/home/jovyan/output'\n",
    "\n",
    "image_list = []\n",
    "\n",
    "for path, subdirs, files in os.walk(root_directory):\n",
    "    print(path)  \n",
    "    dirname = path.split(os.path.sep)[-1]\n",
    " \n",
    "    if dirname == 'output':   #Find all 'images' directories\n",
    "        images = os.listdir(path)  #List of all image names in this subdirectory\n",
    "        for i, image_name in enumerate(images):  \n",
    "            if image_name.startswith(\"classified\"): \n",
    "               #print(image_name)\n",
    "               image_list.append(image_name)\n",
    "               #image_name = rio.open(root_directory+'/'+image_name)\n",
    "image_list\n",
    "#############################################################################"
   ]
  },
  {
   "cell_type": "code",
   "execution_count": null,
   "id": "754ef83c-f9e4-4a27-a22a-5fe292dda4ee",
   "metadata": {},
   "outputs": [],
   "source": []
  },
  {
   "cell_type": "code",
   "execution_count": 187,
   "id": "2f4a2a1f-8d6e-4b30-8ff5-89000d5dcd4b",
   "metadata": {},
   "outputs": [
    {
     "name": "stdout",
     "output_type": "stream",
     "text": [
      "Raster loaded\n",
      "Number of features in vectorized layer: 378670\n",
      "Distinct values in field 'Value': {0, 1, 2, 3, 4, 5, 6, 7, 8, 9}\n",
      "SQL Query: SELECT ST_union(geometry) AS geometry FROM vectorized WHERE Value = 0\n",
      "SQL Query: SELECT ST_union(geometry) AS geometry FROM vectorized WHERE Value = 1\n",
      "SQL Query: SELECT ST_union(geometry) AS geometry FROM vectorized WHERE Value = 2\n",
      "SQL Query: SELECT ST_union(geometry) AS geometry FROM vectorized WHERE Value = 3\n",
      "SQL Query: SELECT ST_union(geometry) AS geometry FROM vectorized WHERE Value = 4\n",
      "SQL Query: SELECT ST_union(geometry) AS geometry FROM vectorized WHERE Value = 5\n",
      "SQL Query: SELECT ST_union(geometry) AS geometry FROM vectorized WHERE Value = 6\n",
      "SQL Query: SELECT ST_union(geometry) AS geometry FROM vectorized WHERE Value = 7\n",
      "SQL Query: SELECT ST_union(geometry) AS geometry FROM vectorized WHERE Value = 8\n",
      "SQL Query: SELECT ST_union(geometry) AS geometry FROM vectorized WHERE Value = 9\n"
     ]
    }
   ],
   "source": [
    "from osgeo import gdal, ogr\n",
    "\n",
    "def vectorize_gdal_ogr(filepath, output_path):\n",
    "    \"\"\"\n",
    "    Vectorizes a single polygon GeoTIFF using GDAL and OGR and saves as a GeoPackage.\n",
    "\n",
    "    Args:\n",
    "        filepath (str): Path to the input GeoTIFF file.\n",
    "        output_path (str): Path to save the output GeoPackage file.\n",
    "    \"\"\"\n",
    "\n",
    "    # Open the GeoTIFF image as a raster dataset\n",
    "    dataset = gdal.Open(filepath)\n",
    "    if dataset is None:\n",
    "        raise OSError(f\"Failed to open GeoTIFF: {filepath}\")\n",
    "    else:\n",
    "        print(\"Raster loaded\")\n",
    "\n",
    "    # Create a new vector driver (GPKG format)\n",
    "    driver = ogr.GetDriverByName(\"GPKG\")\n",
    "\n",
    "    # Create a new GeoPackage\n",
    "    output_datasource = driver.CreateDataSource(output_path)\n",
    "    if output_datasource is None:\n",
    "        raise OSError(f\"Failed to create GeoPackage: {output_path}\")\n",
    "\n",
    "    # Create a new layer in the GeoPackage\n",
    "    spatial_ref = dataset.GetSpatialRef()\n",
    "    layer = output_datasource.CreateLayer(\"vectorized\", geom_type=ogr.wkbPolygon)\n",
    "    #diss_layer = output_datasource.CreateLayer(\"dissolved\", geom_type=ogr.wkbPolygon)\n",
    "\n",
    "    # Create a new field for storing any desired attribute (optional)\n",
    "    field_name = \"Value\"  # Replace with the correct field name\n",
    "    field_defn = ogr.FieldDefn(field_name, ogr.OFTInteger)\n",
    "    layer.CreateField(field_defn)\n",
    "\n",
    "    # Perform polygonization\n",
    "    src_band = dataset.GetRasterBand(1)\n",
    "    gdal.Polygonize(src_band, maskBand=None, outLayer=layer, iPixValField=0, options=[], callback=None)\n",
    "\n",
    "    # Check if the vectorized layer contains features\n",
    "    feature_count = layer.GetFeatureCount()\n",
    "    print(\"Number of features in vectorized layer:\", feature_count)\n",
    "\n",
    "    # Get the actual field names from the layer\n",
    "    layer_defn = layer.GetLayerDefn()\n",
    "    field_names = [layer_defn.GetFieldDefn(i).GetName() for i in range(layer_defn.GetFieldCount())]\n",
    "\n",
    "    # Check distinct values in the specified field\n",
    "    distinct_values = set()\n",
    "    if field_name in field_names:\n",
    "        for feature in layer:\n",
    "            value = feature.GetField(field_name)\n",
    "            distinct_values.add(value)\n",
    "        print(\"Distinct values in field 'Value':\", distinct_values)\n",
    "\n",
    "        # Dissolve the polygons based on the specified field\n",
    "        for value in distinct_values:\n",
    "            sql = f\"SELECT ST_union(geometry) AS geometry FROM {layer.GetName()} WHERE {field_name} = {value}\"\n",
    "            print(\"SQL Query:\", sql)\n",
    "            dissolved_features = output_datasource.ExecuteSQL(sql)\n",
    "            if dissolved_features is not None:\n",
    "                for feature in dissolved_features:\n",
    "                    dissolved_layer.CreateFeature(feature)\n",
    "    else:\n",
    "        print(f\"Field '{field_name}' not found in the vectorized layer.\")\n",
    "\n",
    "    # Cleanup\n",
    "    output_datasource = None\n",
    "    dataset = None\n",
    "\n",
    "# Example usage (modify filepaths)\n",
    "filepath = '/home/jovyan/output/classified_sololo_20240212.tif'\n",
    "output_path = '/home/jovyan/output/output.gpkg'\n",
    "\n",
    "vectorize_gdal_ogr(filepath, output_path)"
   ]
  },
  {
   "cell_type": "code",
   "execution_count": null,
   "id": "e931b00c-396e-4f5b-a02b-693f775b9355",
   "metadata": {},
   "outputs": [],
   "source": []
  },
  {
   "cell_type": "code",
   "execution_count": 126,
   "id": "327d2b3e-22d0-4242-b118-2636d4def5eb",
   "metadata": {},
   "outputs": [
    {
     "name": "stdout",
     "output_type": "stream",
     "text": [
      "GDAL 3.4.1, released 2021/12/27\n"
     ]
    }
   ],
   "source": [
    "! gdalinfo --version"
   ]
  },
  {
   "cell_type": "code",
   "execution_count": null,
   "id": "97495efe-92bb-49f1-8feb-dec9c213452e",
   "metadata": {},
   "outputs": [],
   "source": []
  },
  {
   "cell_type": "code",
   "execution_count": null,
   "id": "c4c58b5a-a9e6-4e4f-9b86-065f46cca271",
   "metadata": {},
   "outputs": [],
   "source": []
  },
  {
   "cell_type": "code",
   "execution_count": null,
   "id": "1fe00ad2-c5ce-4c2f-8466-64b7506aebed",
   "metadata": {},
   "outputs": [],
   "source": []
  },
  {
   "cell_type": "code",
   "execution_count": null,
   "id": "2b902d75-d4d2-495a-8799-6b97f014840b",
   "metadata": {},
   "outputs": [],
   "source": [
    "################### maybe useful #####################################################"
   ]
  },
  {
   "cell_type": "code",
   "execution_count": 119,
   "id": "72cbca1a-8c83-49de-a69f-f6f6a4c856a2",
   "metadata": {},
   "outputs": [
    {
     "ename": "TypeError",
     "evalue": "shapes() got an unexpected keyword argument 'callback'",
     "output_type": "error",
     "traceback": [
      "\u001b[0;31m---------------------------------------------------------------------------\u001b[0m",
      "\u001b[0;31mTypeError\u001b[0m                                 Traceback (most recent call last)",
      "Cell \u001b[0;32mIn[119], line 61\u001b[0m\n\u001b[1;32m     58\u001b[0m geotiff_path \u001b[38;5;241m=\u001b[39m \u001b[38;5;124m\"\u001b[39m\u001b[38;5;124m/home/jovyan/data/classified_eichenberg.tiff\u001b[39m\u001b[38;5;124m\"\u001b[39m\n\u001b[1;32m     59\u001b[0m gpkg_path \u001b[38;5;241m=\u001b[39m \u001b[38;5;124m\"\u001b[39m\u001b[38;5;124m/home/jovyan/data/classified_eichenberg.gpkg\u001b[39m\u001b[38;5;124m\"\u001b[39m\n\u001b[0;32m---> 61\u001b[0m \u001b[43mvectorize_and_dissolve_by_class\u001b[49m\u001b[43m(\u001b[49m\u001b[43mgeotiff_path\u001b[49m\u001b[43m,\u001b[49m\u001b[43m \u001b[49m\u001b[43mgpkg_path\u001b[49m\u001b[43m)\u001b[49m\n\u001b[1;32m     64\u001b[0m \u001b[38;5;28mprint\u001b[39m(\u001b[38;5;124m\"\u001b[39m\u001b[38;5;124mGeoTIFF vectorized and saved as\u001b[39m\u001b[38;5;124m\"\u001b[39m, gpkg_path)\n",
      "Cell \u001b[0;32mIn[119], line 41\u001b[0m, in \u001b[0;36mvectorize_and_dissolve_by_class\u001b[0;34m(geotiff_path, gpkg_path)\u001b[0m\n\u001b[1;32m     39\u001b[0m \u001b[38;5;66;03m# Vectorize the image with custom attribute assignment\u001b[39;00m\n\u001b[1;32m     40\u001b[0m vector_shapes \u001b[38;5;241m=\u001b[39m []\n\u001b[0;32m---> 41\u001b[0m \u001b[38;5;28;01mfor\u001b[39;00m val, shape \u001b[38;5;129;01min\u001b[39;00m \u001b[43mshapes\u001b[49m\u001b[43m(\u001b[49m\u001b[43mimage\u001b[49m\u001b[43m,\u001b[49m\u001b[43m \u001b[49m\u001b[43mmask\u001b[49m\u001b[38;5;241;43m=\u001b[39;49m\u001b[38;5;28;43;01mNone\u001b[39;49;00m\u001b[43m,\u001b[49m\u001b[43m \u001b[49m\u001b[43mtransform\u001b[49m\u001b[38;5;241;43m=\u001b[39;49m\u001b[43mprofile\u001b[49m\u001b[43m[\u001b[49m\u001b[38;5;124;43m'\u001b[39;49m\u001b[38;5;124;43mtransform\u001b[39;49m\u001b[38;5;124;43m'\u001b[39;49m\u001b[43m]\u001b[49m\u001b[43m,\u001b[49m\u001b[43m \u001b[49m\u001b[43mcallback\u001b[49m\u001b[38;5;241;43m=\u001b[39;49m\u001b[43mget_class\u001b[49m\u001b[43m)\u001b[49m:\n\u001b[1;32m     42\u001b[0m     \u001b[38;5;66;03m# Add a \"properties\" dictionary with the assigned class\u001b[39;00m\n\u001b[1;32m     43\u001b[0m     shape[\u001b[38;5;124m'\u001b[39m\u001b[38;5;124mproperties\u001b[39m\u001b[38;5;124m'\u001b[39m] \u001b[38;5;241m=\u001b[39m {\u001b[38;5;124m'\u001b[39m\u001b[38;5;124mclass\u001b[39m\u001b[38;5;124m'\u001b[39m: val}\n\u001b[1;32m     44\u001b[0m     vector_shapes\u001b[38;5;241m.\u001b[39mappend(shape)\n",
      "File \u001b[0;32m/opt/conda/lib/python3.11/site-packages/rasterio/env.py:401\u001b[0m, in \u001b[0;36mensure_env.<locals>.wrapper\u001b[0;34m(*args, **kwds)\u001b[0m\n\u001b[1;32m    399\u001b[0m \u001b[38;5;28;01melse\u001b[39;00m:\n\u001b[1;32m    400\u001b[0m     \u001b[38;5;28;01mwith\u001b[39;00m Env\u001b[38;5;241m.\u001b[39mfrom_defaults():\n\u001b[0;32m--> 401\u001b[0m         \u001b[38;5;28;01mreturn\u001b[39;00m \u001b[43mf\u001b[49m\u001b[43m(\u001b[49m\u001b[38;5;241;43m*\u001b[39;49m\u001b[43margs\u001b[49m\u001b[43m,\u001b[49m\u001b[43m \u001b[49m\u001b[38;5;241;43m*\u001b[39;49m\u001b[38;5;241;43m*\u001b[39;49m\u001b[43mkwds\u001b[49m\u001b[43m)\u001b[49m\n",
      "\u001b[0;31mTypeError\u001b[0m: shapes() got an unexpected keyword argument 'callback'"
     ]
    }
   ],
   "source": [
    "import rasterio\n",
    "from rasterio.features import shapes\n",
    "from shapely.geometry import mapping  # for converting geometry to dict\n",
    "import geopandas as gpd\n",
    "\n",
    "def vectorize_and_dissolve_by_class(geotiff_path, gpkg_path):\n",
    "  \"\"\"\n",
    "  Vectorizes a GeoTIFF image, assigns a \"class\" attribute based on pixel values,\n",
    "  dissolves polygons based on the \"class\", and saves the result as a GeoPackage (.gpkg) file.\n",
    "\n",
    "  Args:\n",
    "      geotiff_path (str): Path to the GeoTIFF image file.\n",
    "      gpkg_path (str): Path to the output GeoPackage file.\n",
    "  \"\"\"\n",
    "\n",
    "  # Open the GeoTIFF dataset\n",
    "  with rasterio.open(geotiff_path) as src:\n",
    "      # Get image data, metadata, and number of bands\n",
    "      image = src.read()\n",
    "      profile = src.profile\n",
    "      n_bands = image.shape[0]\n",
    "\n",
    "  # Define a dictionary to map pixel values to classes (modify as needed)\n",
    "  class_mapping = {\n",
    "      1: \"water\",\n",
    "      2: \"vegetation\",\n",
    "      3: \"urban\",\n",
    "      4: \"4\",\n",
    "      5: \"5\"# Example mapping, replace with your actual class labels\n",
    "  }\n",
    "\n",
    "  # Function to assign class based on pixel value\n",
    "  def get_class(pixel_values):\n",
    "    # Assuming a single-band image, use the first element of the tuple\n",
    "    if n_bands == 1:\n",
    "      return class_mapping.get(pixel_values[0], \"unknown\")  # Handle unknown values\n",
    "    else:\n",
    "      # Adapt logic for multi-band images based on your classification scheme\n",
    "      raise NotImplementedError(\"Multi-band class assignment not implemented. Modify the logic based on your classification scheme.\")\n",
    "\n",
    "  # Vectorize the image with custom attribute assignment\n",
    "  vector_shapes = []\n",
    "  for val, shape in shapes(image, mask=None, transform=profile['transform'], callback=get_class):\n",
    "      # Add a \"properties\" dictionary with the assigned class\n",
    "      shape['properties'] = {'class': val}\n",
    "      vector_shapes.append(shape)\n",
    "\n",
    "  # Convert shapes to GeoDataFrame with geometry and class\n",
    "  vector_gdf = gpd.GeoDataFrame({ 'geometry': [mapping(shape['geometry']) for shape in vector_shapes] })\n",
    "  vector_gdf['class'] = [shape['properties']['class'] for shape in vector_shapes]\n",
    "\n",
    "  # Dissolve the GeoDataFrame based on the \"class\" property\n",
    "  dissolved_gdf = vector_gdf.dissolve(by='class', as_index=False)\n",
    "\n",
    "  # Save the dissolved GeoDataFrame to a GeoPackage\n",
    "  dissolved_gdf.to_file(driver='GPKG', filename=gpkg_path, layer='dissolved_polygons')\n",
    "  print(f\"GeoTIFF vectorized, dissolved, and saved as: {gpkg_path}\")\n",
    "\n",
    "# Example usage\n",
    "geotiff_path = \"/home/jovyan/data/classified_eichenberg.tiff\"\n",
    "gpkg_path = \"/home/jovyan/data/classified_eichenberg.gpkg\"\n",
    "\n",
    "vectorize_and_dissolve_by_class(geotiff_path, gpkg_path)\n",
    "\n",
    "\n",
    "print(\"GeoTIFF vectorized and saved as\", gpkg_path)\n"
   ]
  },
  {
   "cell_type": "code",
   "execution_count": 97,
   "id": "f4301fbe-dfea-4a26-a370-53a3581a40f8",
   "metadata": {
    "scrolled": true
   },
   "outputs": [
    {
     "name": "stdout",
     "output_type": "stream",
     "text": [
      "({'type': 'Polygon', 'coordinates': [[(563544.6907501516, 5692731.900746037), (563544.6907501516, 5692731.850747752), (563544.7407486883, 5692731.850747752), (563544.7407486883, 5692731.900746037), (563544.6907501516, 5692731.900746037)]]}, 4.0)\n"
     ]
    }
   ],
   "source": []
  },
  {
   "cell_type": "code",
   "execution_count": 114,
   "id": "2acc0ada-da17-478c-a484-03f800661eae",
   "metadata": {},
   "outputs": [],
   "source": [
    "geotiff_path = \"/home/jovyan/data/classified_eichenberg.tiff\"\n",
    "with rasterio.open(geotiff_path) as src:\n",
    "  # Get image data and metadata\n",
    "  image = src.read(1)\n",
    "  profile = src.profile\n",
    "\n",
    "  # Convert raster data to vector shapes\n",
    "vector_shapes = shapes(image, mask=None, transform=profile['transform'])"
   ]
  },
  {
   "cell_type": "code",
   "execution_count": 118,
   "id": "7a4e0ef2-868d-4ac2-916e-4f490d0f8479",
   "metadata": {},
   "outputs": [
    {
     "data": {
      "text/plain": [
       "{'driver': 'GTiff', 'dtype': 'uint8', 'nodata': None, 'width': 16991, 'height': 12757, 'count': 1, 'crs': CRS.from_epsg(32632), 'transform': Affine(0.04999853667642206, 0.0, 563150.9522738248,\n",
       "       0.0, -0.04999828499509282, 5692731.900746037), 'blockysize': 1, 'tiled': False, 'interleave': 'band'}"
      ]
     },
     "execution_count": 118,
     "metadata": {},
     "output_type": "execute_result"
    }
   ],
   "source": [
    "profile"
   ]
  },
  {
   "cell_type": "code",
   "execution_count": 115,
   "id": "d547d85c-aa30-4df2-8d51-ebf5df28ad03",
   "metadata": {},
   "outputs": [
    {
     "name": "stdout",
     "output_type": "stream",
     "text": [
      "({'type': 'Polygon', 'coordinates': [[(563544.1407662482, 5692731.900746037), (563544.1407662482, 5692731.850747752), (563544.1907647849, 5692731.850747752), (563544.1907647849, 5692731.900746037), (563544.1407662482, 5692731.900746037)]]}, 2.0)\n"
     ]
    }
   ],
   "source": [
    "for first_shape in vector_shapes:\n",
    "    print (first_shape)\n",
    "    break"
   ]
  },
  {
   "cell_type": "code",
   "execution_count": 117,
   "id": "f50d4d4a-6266-4505-9ff8-7c6201495d7b",
   "metadata": {},
   "outputs": [
    {
     "ename": "AttributeError",
     "evalue": "'list' object has no attribute '__geo_interface__'",
     "output_type": "error",
     "traceback": [
      "\u001b[0;31m---------------------------------------------------------------------------\u001b[0m",
      "\u001b[0;31mAttributeError\u001b[0m                            Traceback (most recent call last)",
      "Cell \u001b[0;32mIn[117], line 1\u001b[0m\n\u001b[0;32m----> 1\u001b[0m vector_gdf \u001b[38;5;241m=\u001b[39m gpd\u001b[38;5;241m.\u001b[39mGeoDataFrame({ \u001b[38;5;124m'\u001b[39m\u001b[38;5;124mgeometry\u001b[39m\u001b[38;5;124m'\u001b[39m: \u001b[43m[\u001b[49m\u001b[43mmapping\u001b[49m\u001b[43m(\u001b[49m\u001b[43mshape\u001b[49m\u001b[43m[\u001b[49m\u001b[38;5;241;43m0\u001b[39;49m\u001b[43m]\u001b[49m\u001b[43m[\u001b[49m\u001b[38;5;124;43m'\u001b[39;49m\u001b[38;5;124;43mcoordinates\u001b[39;49m\u001b[38;5;124;43m'\u001b[39;49m\u001b[43m]\u001b[49m\u001b[43m)\u001b[49m\u001b[43m \u001b[49m\u001b[38;5;28;43;01mfor\u001b[39;49;00m\u001b[43m \u001b[49m\u001b[43mshape\u001b[49m\u001b[43m \u001b[49m\u001b[38;5;129;43;01min\u001b[39;49;00m\u001b[43m \u001b[49m\u001b[43mvector_shapes\u001b[49m\u001b[43m]\u001b[49m })\n",
      "Cell \u001b[0;32mIn[117], line 1\u001b[0m, in \u001b[0;36m<listcomp>\u001b[0;34m(.0)\u001b[0m\n\u001b[0;32m----> 1\u001b[0m vector_gdf \u001b[38;5;241m=\u001b[39m gpd\u001b[38;5;241m.\u001b[39mGeoDataFrame({ \u001b[38;5;124m'\u001b[39m\u001b[38;5;124mgeometry\u001b[39m\u001b[38;5;124m'\u001b[39m: [\u001b[43mmapping\u001b[49m\u001b[43m(\u001b[49m\u001b[43mshape\u001b[49m\u001b[43m[\u001b[49m\u001b[38;5;241;43m0\u001b[39;49m\u001b[43m]\u001b[49m\u001b[43m[\u001b[49m\u001b[38;5;124;43m'\u001b[39;49m\u001b[38;5;124;43mcoordinates\u001b[39;49m\u001b[38;5;124;43m'\u001b[39;49m\u001b[43m]\u001b[49m\u001b[43m)\u001b[49m \u001b[38;5;28;01mfor\u001b[39;00m shape \u001b[38;5;129;01min\u001b[39;00m vector_shapes] })\n",
      "File \u001b[0;32m/opt/conda/lib/python3.11/site-packages/shapely/geometry/geo.py:135\u001b[0m, in \u001b[0;36mmapping\u001b[0;34m(ob)\u001b[0m\n\u001b[1;32m    115\u001b[0m \u001b[38;5;28;01mdef\u001b[39;00m \u001b[38;5;21mmapping\u001b[39m(ob):\n\u001b[1;32m    116\u001b[0m \u001b[38;5;250m    \u001b[39m\u001b[38;5;124;03m\"\"\"\u001b[39;00m\n\u001b[1;32m    117\u001b[0m \u001b[38;5;124;03m    Returns a GeoJSON-like mapping from a Geometry or any\u001b[39;00m\n\u001b[1;32m    118\u001b[0m \u001b[38;5;124;03m    object which implements __geo_interface__\u001b[39;00m\n\u001b[0;32m   (...)\u001b[0m\n\u001b[1;32m    133\u001b[0m \u001b[38;5;124;03m    {'type': 'Point', 'coordinates': (0.0, 0.0)}\u001b[39;00m\n\u001b[1;32m    134\u001b[0m \u001b[38;5;124;03m    \"\"\"\u001b[39;00m\n\u001b[0;32m--> 135\u001b[0m     \u001b[38;5;28;01mreturn\u001b[39;00m \u001b[43mob\u001b[49m\u001b[38;5;241;43m.\u001b[39;49m\u001b[43m__geo_interface__\u001b[49m\n",
      "\u001b[0;31mAttributeError\u001b[0m: 'list' object has no attribute '__geo_interface__'"
     ]
    }
   ],
   "source": [
    " vector_gdf = gpd.GeoDataFrame({ 'geometry': [mapping(shape[0]['coordinates']) for shape in vector_shapes] })"
   ]
  },
  {
   "cell_type": "code",
   "execution_count": null,
   "id": "2bd083d9-f6e7-49ea-9079-14f111a40678",
   "metadata": {},
   "outputs": [],
   "source": []
  }
 ],
 "metadata": {
  "kernelspec": {
   "display_name": "Python 3 (ipykernel)",
   "language": "python",
   "name": "python3"
  },
  "language_info": {
   "codemirror_mode": {
    "name": "ipython",
    "version": 3
   },
   "file_extension": ".py",
   "mimetype": "text/x-python",
   "name": "python",
   "nbconvert_exporter": "python",
   "pygments_lexer": "ipython3",
   "version": "3.11.6"
  }
 },
 "nbformat": 4,
 "nbformat_minor": 5
}
