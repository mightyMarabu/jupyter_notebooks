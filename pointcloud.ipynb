{
 "cells": [
  {
   "cell_type": "code",
   "execution_count": 8,
   "id": "7835771e-c709-41bb-9318-8cb6fd9fa2fc",
   "metadata": {},
   "outputs": [
    {
     "name": "stdout",
     "output_type": "stream",
     "text": [
      "Requirement already satisfied: pylas in /opt/conda/lib/python3.11/site-packages (0.4.3)\n",
      "Collecting lazrs\n",
      "  Downloading lazrs-0.5.2-cp311-cp311-manylinux_2_17_x86_64.manylinux2014_x86_64.whl (1.5 MB)\n",
      "\u001b[2K     \u001b[90m━━━━━━━━━━━━━━━━━━━━━━━━━━━━━━━━━━━━━━━━\u001b[0m \u001b[32m1.5/1.5 MB\u001b[0m \u001b[31m7.6 MB/s\u001b[0m eta \u001b[36m0:00:00\u001b[0m:00:01\u001b[0m00:01\u001b[0m\n",
      "\u001b[?25hRequirement already satisfied: numpy in /opt/conda/lib/python3.11/site-packages (from pylas) (1.24.3)\n",
      "Installing collected packages: lazrs\n",
      "Successfully installed lazrs-0.5.2\n"
     ]
    }
   ],
   "source": [
    "!pip install pylas lazrs"
   ]
  },
  {
   "cell_type": "code",
   "execution_count": null,
   "id": "1d02da17-fedc-4eff-affe-75eabe026f62",
   "metadata": {},
   "outputs": [],
   "source": [
    "import numpy as np\n",
    "import pyvista as pv\n",
    "import matplotlib.pyplot as plt\n",
    "# Load point cloud data"
   ]
  },
  {
   "cell_type": "code",
   "execution_count": 12,
   "id": "ce4a2a5f-3dcf-4647-8184-4740c19fb802",
   "metadata": {},
   "outputs": [
    {
     "name": "stderr",
     "output_type": "stream",
     "text": [
      "thread '<unnamed>' panicked at 'assertion failed: mid <= self.len()', /root/.cargo/registry/src/index.crates.io-6f17d22bba15001f/laz-0.8.2/src/byteslice.rs:34:43\n"
     ]
    },
    {
     "ename": "PanicException",
     "evalue": "assertion failed: mid <= self.len()",
     "output_type": "error",
     "traceback": [
      "\u001b[0;31m---------------------------------------------------------------------------\u001b[0m",
      "\u001b[0;31mPanicException\u001b[0m                            Traceback (most recent call last)",
      "Cell \u001b[0;32mIn[12], line 7\u001b[0m\n\u001b[1;32m      4\u001b[0m las_file_path \u001b[38;5;241m=\u001b[39m \u001b[38;5;124m'\u001b[39m\u001b[38;5;124m/home/jovyan/data/odm_georeferenced_model.copc.laz\u001b[39m\u001b[38;5;124m'\u001b[39m\n\u001b[1;32m      6\u001b[0m \u001b[38;5;66;03m# Open the .LAZ file\u001b[39;00m\n\u001b[0;32m----> 7\u001b[0m las \u001b[38;5;241m=\u001b[39m \u001b[43mpylas\u001b[49m\u001b[38;5;241;43m.\u001b[39;49m\u001b[43mread\u001b[49m\u001b[43m(\u001b[49m\u001b[43mlas_file_path\u001b[49m\u001b[43m)\u001b[49m\n\u001b[1;32m      9\u001b[0m \u001b[38;5;66;03m# Access the header information\u001b[39;00m\n\u001b[1;32m     10\u001b[0m \u001b[38;5;66;03m#header = las.header\u001b[39;00m\n\u001b[1;32m     11\u001b[0m \u001b[38;5;66;03m#print(\"Point count:\", header.point_count)\u001b[39;00m\n\u001b[1;32m     12\u001b[0m \u001b[38;5;66;03m#print(\"Point format:\", header.point_format)\u001b[39;00m\n\u001b[1;32m     13\u001b[0m \n\u001b[1;32m     14\u001b[0m \u001b[38;5;66;03m# Access the point data\u001b[39;00m\n\u001b[1;32m     15\u001b[0m points \u001b[38;5;241m=\u001b[39m las\u001b[38;5;241m.\u001b[39mpoints\n",
      "File \u001b[0;32m/opt/conda/lib/python3.11/site-packages/pylas/lib.py:94\u001b[0m, in \u001b[0;36mread_las\u001b[0;34m(source, closefd)\u001b[0m\n\u001b[1;32m     70\u001b[0m \u001b[38;5;250m\u001b[39m\u001b[38;5;124;03m\"\"\" Entry point for reading las data in pylas\u001b[39;00m\n\u001b[1;32m     71\u001b[0m \n\u001b[1;32m     72\u001b[0m \u001b[38;5;124;03mReads the whole file into memory.\u001b[39;00m\n\u001b[0;32m   (...)\u001b[0m\n\u001b[1;32m     91\u001b[0m \u001b[38;5;124;03m    The object you can interact with to get access to the LAS points & VLRs\u001b[39;00m\n\u001b[1;32m     92\u001b[0m \u001b[38;5;124;03m\"\"\"\u001b[39;00m\n\u001b[1;32m     93\u001b[0m \u001b[38;5;28;01mwith\u001b[39;00m open_las(source, closefd\u001b[38;5;241m=\u001b[39mclosefd) \u001b[38;5;28;01mas\u001b[39;00m reader:\n\u001b[0;32m---> 94\u001b[0m     \u001b[38;5;28;01mreturn\u001b[39;00m \u001b[43mreader\u001b[49m\u001b[38;5;241;43m.\u001b[39;49m\u001b[43mread\u001b[49m\u001b[43m(\u001b[49m\u001b[43m)\u001b[49m\n",
      "File \u001b[0;32m/opt/conda/lib/python3.11/site-packages/pylas/lasreader.py:64\u001b[0m, in \u001b[0;36mLasReader.read\u001b[0;34m(self)\u001b[0m\n\u001b[1;32m     61\u001b[0m \u001b[38;5;28mself\u001b[39m\u001b[38;5;241m.\u001b[39mstream\u001b[38;5;241m.\u001b[39mseek(\u001b[38;5;28mself\u001b[39m\u001b[38;5;241m.\u001b[39mstart_pos \u001b[38;5;241m+\u001b[39m \u001b[38;5;28mself\u001b[39m\u001b[38;5;241m.\u001b[39mheader\u001b[38;5;241m.\u001b[39moffset_to_point_data)\n\u001b[1;32m     63\u001b[0m \u001b[38;5;28;01mtry\u001b[39;00m:\n\u001b[0;32m---> 64\u001b[0m     points \u001b[38;5;241m=\u001b[39m \u001b[38;5;28;43mself\u001b[39;49m\u001b[38;5;241;43m.\u001b[39;49m\u001b[43m_read_points\u001b[49m\u001b[43m(\u001b[49m\u001b[43mvlrs\u001b[49m\u001b[43m)\u001b[49m\n\u001b[1;32m     65\u001b[0m \u001b[38;5;28;01mexcept\u001b[39;00m errors\u001b[38;5;241m.\u001b[39mLazError \u001b[38;5;28;01mas\u001b[39;00m e:\n\u001b[1;32m     66\u001b[0m     logger\u001b[38;5;241m.\u001b[39merror(\u001b[38;5;124m\"\u001b[39m\u001b[38;5;124merror when decompressing \u001b[39m\u001b[38;5;132;01m{}\u001b[39;00m\u001b[38;5;124m, trying laszip\u001b[39m\u001b[38;5;124m\"\u001b[39m\u001b[38;5;241m.\u001b[39mformat(e))\n",
      "File \u001b[0;32m/opt/conda/lib/python3.11/site-packages/pylas/lasreader.py:114\u001b[0m, in \u001b[0;36mLasReader._read_points\u001b[0;34m(self, vlrs)\u001b[0m\n\u001b[1;32m    112\u001b[0m \u001b[38;5;28;01mif\u001b[39;00m \u001b[38;5;28mself\u001b[39m\u001b[38;5;241m.\u001b[39mheader\u001b[38;5;241m.\u001b[39mare_points_compressed:\n\u001b[1;32m    113\u001b[0m     laszip_vlr \u001b[38;5;241m=\u001b[39m vlrs\u001b[38;5;241m.\u001b[39mpop(vlrs\u001b[38;5;241m.\u001b[39mindex(\u001b[38;5;124m\"\u001b[39m\u001b[38;5;124mLasZipVlr\u001b[39m\u001b[38;5;124m\"\u001b[39m))\n\u001b[0;32m--> 114\u001b[0m     points \u001b[38;5;241m=\u001b[39m \u001b[38;5;28;43mself\u001b[39;49m\u001b[38;5;241;43m.\u001b[39;49m\u001b[43m_read_compressed_points_data\u001b[49m\u001b[43m(\u001b[49m\u001b[43mlaszip_vlr\u001b[49m\u001b[43m,\u001b[49m\u001b[43m \u001b[49m\u001b[43mpoint_format\u001b[49m\u001b[43m)\u001b[49m\n\u001b[1;32m    115\u001b[0m \u001b[38;5;28;01melse\u001b[39;00m:\n\u001b[1;32m    116\u001b[0m     points \u001b[38;5;241m=\u001b[39m record\u001b[38;5;241m.\u001b[39mPackedPointRecord\u001b[38;5;241m.\u001b[39mfrom_stream(\n\u001b[1;32m    117\u001b[0m         \u001b[38;5;28mself\u001b[39m\u001b[38;5;241m.\u001b[39mstream, point_format, \u001b[38;5;28mself\u001b[39m\u001b[38;5;241m.\u001b[39mheader\u001b[38;5;241m.\u001b[39mpoint_count\n\u001b[1;32m    118\u001b[0m     )\n",
      "File \u001b[0;32m/opt/conda/lib/python3.11/site-packages/pylas/lasreader.py:136\u001b[0m, in \u001b[0;36mLasReader._read_compressed_points_data\u001b[0;34m(self, laszip_vlr, point_format)\u001b[0m\n\u001b[1;32m    133\u001b[0m struct\u001b[38;5;241m.\u001b[39mpack_into(\u001b[38;5;124m\"\u001b[39m\u001b[38;5;124m<q\u001b[39m\u001b[38;5;124m\"\u001b[39m, points_data, \u001b[38;5;241m0\u001b[39m, offset_to_chunk_table)\n\u001b[1;32m    135\u001b[0m \u001b[38;5;28;01mtry\u001b[39;00m:\n\u001b[0;32m--> 136\u001b[0m     decompressed_points \u001b[38;5;241m=\u001b[39m \u001b[43mlazrs_decompress_buffer\u001b[49m\u001b[43m(\u001b[49m\n\u001b[1;32m    137\u001b[0m \u001b[43m        \u001b[49m\u001b[43mpoints_data\u001b[49m\u001b[43m,\u001b[49m\n\u001b[1;32m    138\u001b[0m \u001b[43m        \u001b[49m\u001b[43mpoint_format\u001b[49m\u001b[38;5;241;43m.\u001b[39;49m\u001b[43mdtype\u001b[49m\u001b[38;5;241;43m.\u001b[39;49m\u001b[43mitemsize\u001b[49m\u001b[43m,\u001b[49m\n\u001b[1;32m    139\u001b[0m \u001b[43m        \u001b[49m\u001b[38;5;28;43mself\u001b[39;49m\u001b[38;5;241;43m.\u001b[39;49m\u001b[43mheader\u001b[49m\u001b[38;5;241;43m.\u001b[39;49m\u001b[43mpoint_count\u001b[49m\u001b[43m,\u001b[49m\n\u001b[1;32m    140\u001b[0m \u001b[43m        \u001b[49m\u001b[43mlaszip_vlr\u001b[49m\n\u001b[1;32m    141\u001b[0m \u001b[43m    \u001b[49m\u001b[43m)\u001b[49m\n\u001b[1;32m    142\u001b[0m \u001b[38;5;28;01mexcept\u001b[39;00m errors\u001b[38;5;241m.\u001b[39mLazError \u001b[38;5;28;01mas\u001b[39;00m e:\n\u001b[1;32m    143\u001b[0m     logger\u001b[38;5;241m.\u001b[39merror(\u001b[38;5;124m\"\u001b[39m\u001b[38;5;124mlazrs failed to decompress points: \u001b[39m\u001b[38;5;132;01m{}\u001b[39;00m\u001b[38;5;124m\"\u001b[39m\u001b[38;5;241m.\u001b[39mformat(e))\n",
      "File \u001b[0;32m/opt/conda/lib/python3.11/site-packages/pylas/compression.py:64\u001b[0m, in \u001b[0;36mlazrs_decompress_buffer\u001b[0;34m(compressed_buffer, point_size, point_count, laszip_vlr, parallel)\u001b[0m\n\u001b[1;32m     60\u001b[0m     vlr_data \u001b[38;5;241m=\u001b[39m np\u001b[38;5;241m.\u001b[39mfrombuffer(laszip_vlr\u001b[38;5;241m.\u001b[39mrecord_data, dtype\u001b[38;5;241m=\u001b[39mnp\u001b[38;5;241m.\u001b[39muint8)\n\u001b[1;32m     62\u001b[0m     point_decompressed \u001b[38;5;241m=\u001b[39m np\u001b[38;5;241m.\u001b[39mzeros(point_count \u001b[38;5;241m*\u001b[39m point_size, np\u001b[38;5;241m.\u001b[39muint8)\n\u001b[0;32m---> 64\u001b[0m     \u001b[43mlazrs\u001b[49m\u001b[38;5;241;43m.\u001b[39;49m\u001b[43mdecompress_points\u001b[49m\u001b[43m(\u001b[49m\u001b[43mpoint_compressed\u001b[49m\u001b[43m,\u001b[49m\u001b[43m \u001b[49m\u001b[43mvlr_data\u001b[49m\u001b[43m,\u001b[49m\u001b[43m \u001b[49m\u001b[43mpoint_decompressed\u001b[49m\u001b[43m,\u001b[49m\u001b[43m \u001b[49m\u001b[43mparallel\u001b[49m\u001b[43m)\u001b[49m\n\u001b[1;32m     65\u001b[0m \u001b[38;5;28;01mexcept\u001b[39;00m lazrs\u001b[38;5;241m.\u001b[39mLazrsError \u001b[38;5;28;01mas\u001b[39;00m e:\n\u001b[1;32m     66\u001b[0m     \u001b[38;5;28;01mraise\u001b[39;00m LazError(\u001b[38;5;124m\"\u001b[39m\u001b[38;5;124mlazrs error: \u001b[39m\u001b[38;5;132;01m{}\u001b[39;00m\u001b[38;5;124m\"\u001b[39m\u001b[38;5;241m.\u001b[39mformat(e)) \u001b[38;5;28;01mfrom\u001b[39;00m \u001b[38;5;21;01me\u001b[39;00m\n",
      "\u001b[0;31mPanicException\u001b[0m: assertion failed: mid <= self.len()"
     ]
    }
   ],
   "source": [
    "import pylas\n",
    "\n",
    "# Specify the path to your .LAZ file\n",
    "las_file_path = '/home/jovyan/data/odm_georeferenced_model.copc.laz'\n",
    "\n",
    "# Open the .LAZ file\n",
    "las = pylas.read(las_file_path)\n",
    "\n",
    "# Access the header information\n",
    "#header = las.header\n",
    "#print(\"Point count:\", header.point_count)\n",
    "#print(\"Point format:\", header.point_format)\n",
    "\n",
    "# Access the point data\n",
    "points = las.points\n",
    "\n",
    "\n",
    "# Close the LAS file when you're done\n",
    "las.close()"
   ]
  },
  {
   "cell_type": "code",
   "execution_count": null,
   "id": "cef5c915-4b1a-4cb5-9876-1428906c464f",
   "metadata": {},
   "outputs": [],
   "source": [
    "points = np.loadtxt('data/odm_georeferenced_model.laz')"
   ]
  },
  {
   "cell_type": "code",
   "execution_count": null,
   "id": "9818bb61-7a2f-4d61-a210-269d9d3633bd",
   "metadata": {},
   "outputs": [],
   "source": []
  }
 ],
 "metadata": {
  "kernelspec": {
   "display_name": "Python 3 (ipykernel)",
   "language": "python",
   "name": "python3"
  },
  "language_info": {
   "codemirror_mode": {
    "name": "ipython",
    "version": 3
   },
   "file_extension": ".py",
   "mimetype": "text/x-python",
   "name": "python",
   "nbconvert_exporter": "python",
   "pygments_lexer": "ipython3",
   "version": "3.11.4"
  }
 },
 "nbformat": 4,
 "nbformat_minor": 5
}
