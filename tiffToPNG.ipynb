{
 "cells": [
  {
   "cell_type": "code",
   "execution_count": 3,
   "id": "833d598c-863d-4feb-8ea9-8a78d236031c",
   "metadata": {},
   "outputs": [
    {
     "name": "stdout",
     "output_type": "stream",
     "text": [
      "/home/jovyan/u_net/masks\n",
      "/home/jovyan/u_net/masks/.ipynb_checkpoints\n",
      "(0, 0, 0)\n",
      "(1, 1, 1)\n",
      "(3, 3, 3)\n",
      "(4, 4, 4)\n",
      "(2, 2, 2)\n",
      "(5, 5, 5)\n"
     ]
    }
   ],
   "source": [
    "from PIL import Image\n",
    "#!pip install extcolors\n",
    "import extcolors\n",
    "\n",
    "import os\n",
    "#img_path = r\"../results/20230612_unsupervised.tiff\"\n",
    "#img_path = r\"/home/jovyan/results/mask/classified_202312_ndvi.tif\"\n",
    "#img_path = r\"/home/jovyan/cropped_ndvi_mask.tif\"\n",
    "#img_path = r\"/home/jovyan/ndvi_mask.png\"\n",
    "\n",
    "root_directory = '/home/jovyan/u_net/masks'\n",
    "\n",
    "image_list = []\n",
    "\n",
    "for path, subdirs, files in os.walk(root_directory):\n",
    "    print(path)  \n",
    "    dirname = path.split(os.path.sep)[-1]\n",
    "    #if dirname == 'R10m':   #Find all 'images' directories\n",
    "    if dirname == 'masks':   #Find all 'images' directories\n",
    "        images = os.listdir(path)  #List of all image names in this subdirectory\n",
    "        for i, image_name in enumerate(images):  \n",
    "            if image_name.endswith(\"classification.tif\"):  \n",
    "               #print(image_name)\n",
    "               image_list.append(image_name)\n",
    "               #image_name = rio.open(root_directory+'/'+image_name)\n",
    "image_list\n",
    "\n",
    "for image in image_list:\n",
    "    img_path = root_directory+'/'+image\n",
    "    colors_x = extcolors.extract_from_path(img_path, tolerance = 0, limit = 10)\n",
    "    \n",
    "    for color in colors_x[0]:\n",
    "        print (color[0])\n",
    "        color = color[0]\n",
    "    \n",
    "    # open the image and convert to 3-channel RGB\n",
    "    img = Image.open(img_path).convert('RGB')\n",
    "        \n",
    "    # get the image data\n",
    "    data = img.getdata()\n",
    "    \n",
    "    new_pixel_values = []\n",
    "    colors = []\n",
    "    for color in colors_x[0]:\n",
    "        colors.append(color[0])\n",
    "    \n",
    "    for pixel in data:\n",
    "        if pixel == color[0]:#(5,5,5):\n",
    "        # replace with a specified colour\n",
    "            new_pixel_values.append((121,209,81))\n",
    "        elif pixel == colors[1]:#(4,4,4):\n",
    "            # replace with a specified colour\n",
    "            new_pixel_values.append((34,167,132))\n",
    "        elif pixel == colors[2]:#(6,6,6):\n",
    "            # replace with a specified colour\n",
    "            new_pixel_values.append((41,120,142))\n",
    "        elif pixel == colors[3]:#(0,0,0):\n",
    "            # replace with a specified colour\n",
    "            new_pixel_values.append((64,67,135))\n",
    "        elif pixel == colors[4]:#(3,3,3):\n",
    "            # replace with a specified colour\n",
    "            new_pixel_values.append((253,231,36))\n",
    "        elif pixel == colors[5]:#(1,1,1):\n",
    "            # replace with a specified colour\n",
    "            new_pixel_values.append((60, 16, 152))\n",
    "#        elif pixel == colors[6]:#(7,7,7):\n",
    "            # replace with a specified colour\n",
    "#            new_pixel_values.append((126, 16, 152))\n",
    "#        elif pixel == colors[7]:#(2,2,2):\n",
    "            # replace with a specified colour\n",
    "#            new_pixel_values.append((244, 51, 171))\n",
    "#        elif pixel == colors[8]:#(8,8,8):\n",
    "            # replace with a specified colour\n",
    "#            new_pixel_values.append((254, 221, 58))\n",
    "#        elif pixel == colors[9]:\n",
    "            # replace with a specified colour\n",
    "#            new_pixel_values.append((226, 169, 41))\n",
    "            \n",
    "        # or just catch the remainder with `else`\n",
    "        else:\n",
    "            # specify colour for remaining pixels\n",
    "            new_pixel_values.append((0, 0, 0)) \n",
    "    \n",
    "    # update the pixel values\n",
    "    img.putdata(new_pixel_values)\n",
    "    \n",
    "    # save the RGB image\n",
    "    #outpath = img_path[:-5] + str(color[0]) +'_rgb.png'\n",
    "    outpath = img_path[:-4] +'_mask_rgb.png'\n",
    "    img.save(outpath)"
   ]
  },
  {
   "cell_type": "code",
   "execution_count": 3,
   "id": "ecaf646e-06cc-4b75-9a5f-75e2f85b2cf2",
   "metadata": {},
   "outputs": [],
   "source": [
    "#!pip install extcolors\n",
    "\n",
    "from PIL import Image\n",
    "import extcolors\n",
    "\n",
    "#img_path = r\"/home/jovyan/results/bands_cropped/0cropped_to_aoi.tiff\"\n",
    "img_path = r\"/home/jovyan/ndvi_mask.png\"\n",
    "\n",
    "colors_x = extcolors.extract_from_path(img_path, tolerance = 0, limit = 12)\n",
    "colors_x\n",
    "\n",
    "\n",
    "# open the image and convert to 3-channel RGB\n",
    "img = Image.open(img_path).convert('RGB')\n",
    "    \n",
    "# get the image data\n",
    "data = img.getdata()\n"
   ]
  },
  {
   "cell_type": "code",
   "execution_count": null,
   "id": "8f18428d-41be-4146-bc1f-b834029f27de",
   "metadata": {},
   "outputs": [],
   "source": []
  },
  {
   "cell_type": "code",
   "execution_count": 4,
   "id": "4270edcd-bb1b-4ff3-981e-15edbf75651e",
   "metadata": {},
   "outputs": [
    {
     "data": {
      "text/plain": [
       "[(0, 104, 55),\n",
       " (165, 0, 38),\n",
       " (254, 254, 189),\n",
       " (134, 203, 102),\n",
       " (248, 139, 81),\n",
       " (168, 3, 38),\n",
       " (137, 204, 102),\n",
       " (174, 9, 38),\n",
       " (248, 142, 82),\n",
       " (166, 1, 38),\n",
       " (139, 205, 103),\n",
       " (254, 251, 185)]"
      ]
     },
     "execution_count": 4,
     "metadata": {},
     "output_type": "execute_result"
    }
   ],
   "source": [
    "#for pixel in data:\n",
    "colors = []\n",
    "for color in colors_x[0]:\n",
    "    colors.append(color[0])\n",
    "colors"
   ]
  },
  {
   "cell_type": "code",
   "execution_count": 10,
   "id": "3efe5716-8330-44b2-90d8-46cbff69947b",
   "metadata": {},
   "outputs": [
    {
     "data": {
      "text/plain": [
       "[((0, 104, 55), 2459783),\n",
       " ((165, 0, 38), 2136237),\n",
       " ((254, 254, 189), 847335),\n",
       " ((134, 203, 102), 589194),\n",
       " ((248, 139, 81), 383129),\n",
       " ((248, 142, 82), 49965),\n",
       " ((166, 1, 38), 44883),\n",
       " ((137, 204, 102), 37217),\n",
       " ((168, 3, 38), 34622),\n",
       " ((139, 205, 103), 34485),\n",
       " ((252, 254, 187), 30677),\n",
       " ((254, 253, 187), 29044)]"
      ]
     },
     "execution_count": 10,
     "metadata": {},
     "output_type": "execute_result"
    }
   ],
   "source": [
    "colors_x[0]"
   ]
  },
  {
   "cell_type": "code",
   "execution_count": null,
   "id": "ba24eaf8-0c1b-4096-97af-124cd1fde8a2",
   "metadata": {},
   "outputs": [],
   "source": []
  },
  {
   "cell_type": "code",
   "execution_count": 18,
   "id": "47572e12-5bef-45a2-a988-a3aabb4cf8e2",
   "metadata": {},
   "outputs": [],
   "source": [
    "outpath = img_path[:-5] +'_mask_rgb.png'\n",
    "img.save(outpath)"
   ]
  },
  {
   "cell_type": "code",
   "execution_count": 6,
   "id": "aaab2657-dc1e-4230-a31a-09dbac755c7e",
   "metadata": {},
   "outputs": [
    {
     "data": {
      "text/plain": [
       "'/home/jovyan/ndvi_mas_mask_rgb.png'"
      ]
     },
     "execution_count": 6,
     "metadata": {},
     "output_type": "execute_result"
    }
   ],
   "source": [
    "#img_path\n",
    "outpath"
   ]
  },
  {
   "cell_type": "code",
   "execution_count": null,
   "id": "10849374-3ad0-426b-a7f6-fd0ad3da66c8",
   "metadata": {},
   "outputs": [],
   "source": []
  }
 ],
 "metadata": {
  "kernelspec": {
   "display_name": "Python 3 (ipykernel)",
   "language": "python",
   "name": "python3"
  },
  "language_info": {
   "codemirror_mode": {
    "name": "ipython",
    "version": 3
   },
   "file_extension": ".py",
   "mimetype": "text/x-python",
   "name": "python",
   "nbconvert_exporter": "python",
   "pygments_lexer": "ipython3",
   "version": "3.11.4"
  }
 },
 "nbformat": 4,
 "nbformat_minor": 5
}
