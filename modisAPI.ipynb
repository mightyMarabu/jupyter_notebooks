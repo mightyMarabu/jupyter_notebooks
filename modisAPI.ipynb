{
 "cells": [
  {
   "cell_type": "code",
   "execution_count": 1,
   "id": "acc66810-43d5-4391-8edc-76c1d863ff4e",
   "metadata": {},
   "outputs": [],
   "source": [
    "import requests\n",
    "import json\n",
    "import datetime\n",
    "import pandas as pd\n",
    "import numpy as np\n",
    "\n",
    "import matplotlib.pyplot as plt\n",
    "\n",
    "url = \"https://modis.ornl.gov/rst/api/v1/\"\n",
    "header = {'Accept': 'application/json'}"
   ]
  },
  {
   "cell_type": "code",
   "execution_count": 5,
   "id": "03bcd726-3cf7-4faf-98c0-da944f16d6ea",
   "metadata": {},
   "outputs": [],
   "source": [
    "#LatLng = ('37.30488,01.85034') # Ngurunit\n",
    "response = requests.get('https://modis.ornl.gov/rst/api/v1/MOD11A2/dates?latitude=37.30488&longitude=01.85034', headers=header)\n",
    "\n",
    "dates = json.loads(response.text)['dates']\n",
    "\n",
    "modis_dates = [i['modis_date'] for i in dates]\n",
    "calendar_dates = [i['calendar_date'] for i in dates]"
   ]
  },
  {
   "cell_type": "code",
   "execution_count": 15,
   "id": "aa063c75-4004-4ae7-84d2-84eac390c324",
   "metadata": {},
   "outputs": [
    {
     "data": {
      "text/plain": [
       "[{'modis_date': 'A2021329', 'calendar_date': '2021-11-25'},\n",
       " {'modis_date': 'A2021337', 'calendar_date': '2021-12-03'},\n",
       " {'modis_date': 'A2021345', 'calendar_date': '2021-12-11'},\n",
       " {'modis_date': 'A2021353', 'calendar_date': '2021-12-19'},\n",
       " {'modis_date': 'A2021361', 'calendar_date': '2021-12-27'},\n",
       " {'modis_date': 'A2022001', 'calendar_date': '2022-01-01'},\n",
       " {'modis_date': 'A2022009', 'calendar_date': '2022-01-09'},\n",
       " {'modis_date': 'A2022017', 'calendar_date': '2022-01-17'},\n",
       " {'modis_date': 'A2022025', 'calendar_date': '2022-01-25'},\n",
       " {'modis_date': 'A2022033', 'calendar_date': '2022-02-02'},\n",
       " {'modis_date': 'A2022041', 'calendar_date': '2022-02-10'},\n",
       " {'modis_date': 'A2022049', 'calendar_date': '2022-02-18'},\n",
       " {'modis_date': 'A2022057', 'calendar_date': '2022-02-26'},\n",
       " {'modis_date': 'A2022065', 'calendar_date': '2022-03-06'},\n",
       " {'modis_date': 'A2022073', 'calendar_date': '2022-03-14'},\n",
       " {'modis_date': 'A2022081', 'calendar_date': '2022-03-22'},\n",
       " {'modis_date': 'A2022089', 'calendar_date': '2022-03-30'},\n",
       " {'modis_date': 'A2022097', 'calendar_date': '2022-04-07'},\n",
       " {'modis_date': 'A2022105', 'calendar_date': '2022-04-15'},\n",
       " {'modis_date': 'A2022113', 'calendar_date': '2022-04-23'},\n",
       " {'modis_date': 'A2022121', 'calendar_date': '2022-05-01'},\n",
       " {'modis_date': 'A2022129', 'calendar_date': '2022-05-09'},\n",
       " {'modis_date': 'A2022137', 'calendar_date': '2022-05-17'},\n",
       " {'modis_date': 'A2022145', 'calendar_date': '2022-05-25'},\n",
       " {'modis_date': 'A2022153', 'calendar_date': '2022-06-02'},\n",
       " {'modis_date': 'A2022161', 'calendar_date': '2022-06-10'},\n",
       " {'modis_date': 'A2022169', 'calendar_date': '2022-06-18'},\n",
       " {'modis_date': 'A2022177', 'calendar_date': '2022-06-26'},\n",
       " {'modis_date': 'A2022185', 'calendar_date': '2022-07-04'},\n",
       " {'modis_date': 'A2022193', 'calendar_date': '2022-07-12'},\n",
       " {'modis_date': 'A2022201', 'calendar_date': '2022-07-20'},\n",
       " {'modis_date': 'A2022209', 'calendar_date': '2022-07-28'},\n",
       " {'modis_date': 'A2022217', 'calendar_date': '2022-08-05'},\n",
       " {'modis_date': 'A2022225', 'calendar_date': '2022-08-13'},\n",
       " {'modis_date': 'A2022233', 'calendar_date': '2022-08-21'},\n",
       " {'modis_date': 'A2022241', 'calendar_date': '2022-08-29'},\n",
       " {'modis_date': 'A2022249', 'calendar_date': '2022-09-06'},\n",
       " {'modis_date': 'A2022257', 'calendar_date': '2022-09-14'},\n",
       " {'modis_date': 'A2022265', 'calendar_date': '2022-09-22'},\n",
       " {'modis_date': 'A2022273', 'calendar_date': '2022-09-30'},\n",
       " {'modis_date': 'A2022281', 'calendar_date': '2022-10-08'},\n",
       " {'modis_date': 'A2022297', 'calendar_date': '2022-10-24'},\n",
       " {'modis_date': 'A2022305', 'calendar_date': '2022-11-01'},\n",
       " {'modis_date': 'A2022313', 'calendar_date': '2022-11-09'},\n",
       " {'modis_date': 'A2022321', 'calendar_date': '2022-11-17'},\n",
       " {'modis_date': 'A2022329', 'calendar_date': '2022-11-25'},\n",
       " {'modis_date': 'A2022337', 'calendar_date': '2022-12-03'},\n",
       " {'modis_date': 'A2022345', 'calendar_date': '2022-12-11'},\n",
       " {'modis_date': 'A2022353', 'calendar_date': '2022-12-19'},\n",
       " {'modis_date': 'A2022361', 'calendar_date': '2022-12-27'},\n",
       " {'modis_date': 'A2023001', 'calendar_date': '2023-01-01'},\n",
       " {'modis_date': 'A2023009', 'calendar_date': '2023-01-09'},\n",
       " {'modis_date': 'A2023017', 'calendar_date': '2023-01-17'},\n",
       " {'modis_date': 'A2023025', 'calendar_date': '2023-01-25'},\n",
       " {'modis_date': 'A2023033', 'calendar_date': '2023-02-02'},\n",
       " {'modis_date': 'A2023041', 'calendar_date': '2023-02-10'},\n",
       " {'modis_date': 'A2023049', 'calendar_date': '2023-02-18'},\n",
       " {'modis_date': 'A2023057', 'calendar_date': '2023-02-26'},\n",
       " {'modis_date': 'A2023065', 'calendar_date': '2023-03-06'},\n",
       " {'modis_date': 'A2023073', 'calendar_date': '2023-03-14'},\n",
       " {'modis_date': 'A2023081', 'calendar_date': '2023-03-22'},\n",
       " {'modis_date': 'A2023089', 'calendar_date': '2023-03-30'},\n",
       " {'modis_date': 'A2023097', 'calendar_date': '2023-04-07'},\n",
       " {'modis_date': 'A2023105', 'calendar_date': '2023-04-15'},\n",
       " {'modis_date': 'A2023113', 'calendar_date': '2023-04-23'},\n",
       " {'modis_date': 'A2023121', 'calendar_date': '2023-05-01'},\n",
       " {'modis_date': 'A2023129', 'calendar_date': '2023-05-09'},\n",
       " {'modis_date': 'A2023137', 'calendar_date': '2023-05-17'},\n",
       " {'modis_date': 'A2023145', 'calendar_date': '2023-05-25'},\n",
       " {'modis_date': 'A2023153', 'calendar_date': '2023-06-02'},\n",
       " {'modis_date': 'A2023161', 'calendar_date': '2023-06-10'},\n",
       " {'modis_date': 'A2023169', 'calendar_date': '2023-06-18'},\n",
       " {'modis_date': 'A2023177', 'calendar_date': '2023-06-26'}]"
      ]
     },
     "execution_count": 15,
     "metadata": {},
     "output_type": "execute_result"
    }
   ],
   "source": [
    "dates[1000:]"
   ]
  },
  {
   "cell_type": "code",
   "execution_count": 18,
   "id": "03b2e5be-fac7-4be6-bbb1-8be487e5d041",
   "metadata": {},
   "outputs": [
    {
     "data": {
      "text/plain": [
       "[{'modis_date': 'A2023153',\n",
       "  'calendar_date': '2023-06-02',\n",
       "  'band': 'LST_Day_1km',\n",
       "  'tile': 'h18v05',\n",
       "  'proc_date': '2023164034921',\n",
       "  'data': [0, 0, 0, 0, 0, 0, 0, 0, 0]},\n",
       " {'modis_date': 'A2023161',\n",
       "  'calendar_date': '2023-06-10',\n",
       "  'band': 'LST_Day_1km',\n",
       "  'tile': 'h18v05',\n",
       "  'proc_date': '2023170175006',\n",
       "  'data': [0, 0, 0, 0, 0, 0, 0, 0, 0]},\n",
       " {'modis_date': 'A2023169',\n",
       "  'calendar_date': '2023-06-18',\n",
       "  'band': 'LST_Day_1km',\n",
       "  'tile': 'h18v05',\n",
       "  'proc_date': '2023178032656',\n",
       "  'data': [0, 0, 0, 0, 0, 0, 0, 0, 0]},\n",
       " {'modis_date': 'A2023177',\n",
       "  'calendar_date': '2023-06-26',\n",
       "  'band': 'LST_Day_1km',\n",
       "  'tile': 'h18v05',\n",
       "  'proc_date': '2023191234425',\n",
       "  'data': [0, 0, 0, 0, 0, 0, 0, 0, 0]}]"
      ]
     },
     "execution_count": 18,
     "metadata": {},
     "output_type": "execute_result"
    }
   ],
   "source": [
    "response = requests.get('https://modis.ornl.gov/rst/api/v1/MOD11A2/subset?latitude=37.30488&longitude=01.85034&band=LST_Day_1km&startDate=A2023153&endDate=A2023177&kmAboveBelow=1&kmLeftRight=1', headers=header)\n",
    "subset = json.loads(response.text)\n",
    "subset[\"subset\"]"
   ]
  },
  {
   "cell_type": "code",
   "execution_count": null,
   "id": "6c8e4d5f-26a3-4c09-bad8-d21f79e8e59a",
   "metadata": {},
   "outputs": [],
   "source": []
  }
 ],
 "metadata": {
  "kernelspec": {
   "display_name": "Python 3 (ipykernel)",
   "language": "python",
   "name": "python3"
  },
  "language_info": {
   "codemirror_mode": {
    "name": "ipython",
    "version": 3
   },
   "file_extension": ".py",
   "mimetype": "text/x-python",
   "name": "python",
   "nbconvert_exporter": "python",
   "pygments_lexer": "ipython3",
   "version": "3.11.4"
  }
 },
 "nbformat": 4,
 "nbformat_minor": 5
}
